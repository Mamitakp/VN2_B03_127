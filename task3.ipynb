{
  "cells": [
    {
      "cell_type": "markdown",
      "metadata": {
        "id": "view-in-github",
        "colab_type": "text"
      },
      "source": [
        "<a href=\"https://colab.research.google.com/github/Mamitakp/VN2_B03_127/blob/main/task3.ipynb\" target=\"_parent\"><img src=\"https://colab.research.google.com/assets/colab-badge.svg\" alt=\"Open In Colab\"/></a>"
      ]
    },
    {
      "cell_type": "code",
      "execution_count": 1,
      "metadata": {
        "colab": {
          "base_uri": "https://localhost:8080/"
        },
        "id": "vKuMB0ov7s4L",
        "outputId": "b05687ca-578e-4aa1-9130-8fda6564e614"
      },
      "outputs": [
        {
          "output_type": "stream",
          "name": "stdout",
          "text": [
            "Looking in indexes: https://pypi.org/simple, https://us-python.pkg.dev/colab-wheels/public/simple/\n",
            "Collecting spark\n",
            "  Downloading spark-0.2.1.tar.gz (41 kB)\n",
            "\u001b[K     |████████████████████████████████| 41 kB 65 kB/s \n",
            "\u001b[?25hBuilding wheels for collected packages: spark\n",
            "  Building wheel for spark (setup.py) ... \u001b[?25l\u001b[?25hdone\n",
            "  Created wheel for spark: filename=spark-0.2.1-py3-none-any.whl size=58762 sha256=9e86a480ca617943247cacce13721c3c29d281e9cb919d7fb4b59f2088b1f00b\n",
            "  Stored in directory: /root/.cache/pip/wheels/4e/0e/f1/164619f9920fb447d294afaae11a7715bd442ded7225953d72\n",
            "Successfully built spark\n",
            "Installing collected packages: spark\n",
            "Successfully installed spark-0.2.1\n"
          ]
        }
      ],
      "source": [
        "pip install spark"
      ]
    },
    {
      "cell_type": "code",
      "execution_count": 2,
      "metadata": {
        "colab": {
          "base_uri": "https://localhost:8080/"
        },
        "id": "Zs4xb84e7woG",
        "outputId": "7df7b468-329e-43a3-928e-443a8efd2374"
      },
      "outputs": [
        {
          "output_type": "stream",
          "name": "stdout",
          "text": [
            "Looking in indexes: https://pypi.org/simple, https://us-python.pkg.dev/colab-wheels/public/simple/\n",
            "Collecting pyspark\n",
            "  Downloading pyspark-3.3.0.tar.gz (281.3 MB)\n",
            "\u001b[K     |████████████████████████████████| 281.3 MB 43 kB/s \n",
            "\u001b[?25hCollecting py4j==0.10.9.5\n",
            "  Downloading py4j-0.10.9.5-py2.py3-none-any.whl (199 kB)\n",
            "\u001b[K     |████████████████████████████████| 199 kB 52.5 MB/s \n",
            "\u001b[?25hBuilding wheels for collected packages: pyspark\n",
            "  Building wheel for pyspark (setup.py) ... \u001b[?25l\u001b[?25hdone\n",
            "  Created wheel for pyspark: filename=pyspark-3.3.0-py2.py3-none-any.whl size=281764026 sha256=0dc45b2c5b35b41b4c699687189010e2d693e45d76aee2a14c641d7757b9d0db\n",
            "  Stored in directory: /root/.cache/pip/wheels/7a/8e/1b/f73a52650d2e5f337708d9f6a1750d451a7349a867f928b885\n",
            "Successfully built pyspark\n",
            "Installing collected packages: py4j, pyspark\n",
            "Successfully installed py4j-0.10.9.5 pyspark-3.3.0\n"
          ]
        }
      ],
      "source": [
        "pip install pyspark"
      ]
    },
    {
      "cell_type": "code",
      "execution_count": 3,
      "metadata": {
        "id": "3VRQBbWa77h1"
      },
      "outputs": [],
      "source": [
        "from pyspark.sql import *\n",
        "from pyspark.sql import SparkSession\n",
        "from pyspark.sql.functions import *\n",
        "from pyspark.sql.types import *"
      ]
    },
    {
      "cell_type": "code",
      "execution_count": 4,
      "metadata": {
        "id": "eoGWvHpq8jfT"
      },
      "outputs": [],
      "source": [
        "spark=SparkSession.builder.appName('colab').getOrCreate()"
      ]
    },
    {
      "cell_type": "code",
      "execution_count": 5,
      "metadata": {
        "id": "KavwFAN18vaV"
      },
      "outputs": [],
      "source": [
        "df=spark.read.csv(r'/content/user_login_history.csv',inferSchema=True,header=True)"
      ]
    },
    {
      "cell_type": "code",
      "execution_count": 6,
      "metadata": {
        "colab": {
          "base_uri": "https://localhost:8080/"
        },
        "id": "iJk44npp9hA1",
        "outputId": "1621bdee-b39b-4cfe-bd4d-0544714578dc"
      },
      "outputs": [
        {
          "output_type": "stream",
          "name": "stdout",
          "text": [
            "+---+------+----------+\n",
            "| id|userid|login_date|\n",
            "+---+------+----------+\n",
            "|  1|     1|01-01-2019|\n",
            "|  2|     2|02-01-2019|\n",
            "|  3|     3|03-01-2019|\n",
            "|  4|     4|04-01-2019|\n",
            "|  5|     5|05-01-2019|\n",
            "|  6|     6|06-01-2019|\n",
            "|  7|     7|07-01-2019|\n",
            "|  8|     8|08-01-2019|\n",
            "|  9|    68|08-01-2019|\n",
            "| 10|     9|09-01-2019|\n",
            "+---+------+----------+\n",
            "only showing top 10 rows\n",
            "\n"
          ]
        }
      ],
      "source": [
        "df.show(n=10)"
      ]
    },
    {
      "cell_type": "code",
      "execution_count": 7,
      "metadata": {
        "id": "MmME1JMT9mhl"
      },
      "outputs": [],
      "source": [
        "from datetime import datetime,timedelta,date\n"
      ]
    },
    {
      "cell_type": "code",
      "execution_count": 8,
      "metadata": {
        "id": "SnD7kXpQh6rQ"
      },
      "outputs": [],
      "source": [
        "day=date.today()"
      ]
    },
    {
      "cell_type": "code",
      "execution_count": 9,
      "metadata": {
        "colab": {
          "base_uri": "https://localhost:8080/"
        },
        "id": "KjlTiay4iH4X",
        "outputId": "2d56daea-a918-4839-f33e-2df61ceb527c"
      },
      "outputs": [
        {
          "output_type": "stream",
          "name": "stdout",
          "text": [
            "2022-06-16\n",
            "2019-01-06 00:00:00\n"
          ]
        }
      ],
      "source": [
        "dt=datetime.strptime('06-01-2019','%d-%m-%Y')\n",
        "\n",
        "print(day)\n",
        "print(dt )"
      ]
    },
    {
      "cell_type": "code",
      "execution_count": 10,
      "metadata": {
        "id": "NL9OEv1sioP_"
      },
      "outputs": [],
      "source": [
        "def check_week(str1):\n",
        "  c_dt=datetime.strptime(str1,'%d-%m-%Y')\n",
        "  c_dt=c_dt.date()\n",
        " \n",
        "  day=date.today()\n",
        " \n",
        "  dt=day\n",
        "  start=dt-timedelta(days=dt.weekday())\n",
        "  end=start+timedelta(days=6)\n",
        "  \n",
        "  print(start)\n",
        "  print(c_dt)\n",
        "  print(end)\n",
        "\n",
        "  if start<=c_dt<=end:\n",
        "    return 'true'\n",
        "  else:\n",
        "    return 'false'\n"
      ]
    },
    {
      "cell_type": "code",
      "execution_count": 11,
      "metadata": {
        "colab": {
          "base_uri": "https://localhost:8080/",
          "height": 87
        },
        "id": "-zlh4y9kryvk",
        "outputId": "ead845e5-b61b-43e9-bd8a-488aef2c2912"
      },
      "outputs": [
        {
          "output_type": "stream",
          "name": "stdout",
          "text": [
            "2022-06-13\n",
            "2019-01-08\n",
            "2022-06-19\n"
          ]
        },
        {
          "output_type": "execute_result",
          "data": {
            "text/plain": [
              "'false'"
            ],
            "application/vnd.google.colaboratory.intrinsic+json": {
              "type": "string"
            }
          },
          "metadata": {},
          "execution_count": 11
        }
      ],
      "source": [
        "check_week('08-01-2019')"
      ]
    },
    {
      "cell_type": "code",
      "execution_count": 13,
      "metadata": {
        "id": "77kteueyn1aW"
      },
      "outputs": [],
      "source": [
        "udf_week=udf(lambda x:check_week(x))"
      ]
    },
    {
      "cell_type": "code",
      "execution_count": 14,
      "metadata": {
        "colab": {
          "base_uri": "https://localhost:8080/"
        },
        "id": "sqyGpHsipLKd",
        "outputId": "76d473ce-82d3-4a10-8279-ee360e67dd07"
      },
      "outputs": [
        {
          "output_type": "stream",
          "name": "stdout",
          "text": [
            "+---+------+----------+-----+\n",
            "| id|userid|login_date|cweek|\n",
            "+---+------+----------+-----+\n",
            "|  1|     1|01-01-2019|false|\n",
            "|  2|     2|02-01-2019|false|\n",
            "|  3|     3|03-01-2019|false|\n",
            "|  4|     4|04-01-2019|false|\n",
            "|  5|     5|05-01-2019|false|\n",
            "|  6|     6|06-01-2019|false|\n",
            "|  7|     7|07-01-2019|false|\n",
            "|  8|     8|08-01-2019|false|\n",
            "|  9|    68|08-01-2019|false|\n",
            "| 10|     9|09-01-2019|false|\n",
            "| 11|    10|10-01-2019|false|\n",
            "| 12|     1|01-02-2019|false|\n",
            "| 13|     2|02-02-2019|false|\n",
            "| 14|     3|03-02-2019|false|\n",
            "| 15|     4|04-02-2019|false|\n",
            "| 16|     5|05-02-2019|false|\n",
            "| 17|     6|06-02-2019|false|\n",
            "| 18|     7|07-02-2019|false|\n",
            "| 19|     8|08-02-2019|false|\n",
            "| 20|     9|09-02-2019|false|\n",
            "+---+------+----------+-----+\n",
            "only showing top 20 rows\n",
            "\n"
          ]
        }
      ],
      "source": [
        "res=df.withColumn('cweek',udf_week(col('login_date'))) .show()"
      ]
    },
    {
      "cell_type": "code",
      "execution_count": 15,
      "metadata": {
        "id": "5HBta7KCrJyl"
      },
      "outputs": [],
      "source": [
        "def check_prev_week(str1):\n",
        "  c_dt=datetime.strptime(str1,'%d-%m-%Y')\n",
        "  c_dt=c_dt.date()\n",
        " \n",
        "  day=date.today()\n",
        " \n",
        "  dt=day\n",
        "  start=dt-timedelta(days=dt.weekday())\n",
        "  pstart=start-timedelta(days=7)\n",
        "  pend=pstart+timedelta(days=6)\n",
        "  \n",
        "  print(start)\n",
        "  print(pstart)\n",
        "  print(pend)\n",
        "\n",
        "  if pstart<=c_dt>=pend:\n",
        "    return 'true'\n",
        "  else:\n",
        "    return 'false'\n"
      ]
    },
    {
      "cell_type": "code",
      "source": [
        "check_prev_week('6-12-2022')"
      ],
      "metadata": {
        "colab": {
          "base_uri": "https://localhost:8080/",
          "height": 87
        },
        "id": "4yXqptI9Obs2",
        "outputId": "60050651-d49e-4737-d571-04415c312a24"
      },
      "execution_count": 16,
      "outputs": [
        {
          "output_type": "stream",
          "name": "stdout",
          "text": [
            "2022-06-13\n",
            "2022-06-06\n",
            "2022-06-12\n"
          ]
        },
        {
          "output_type": "execute_result",
          "data": {
            "text/plain": [
              "'true'"
            ],
            "application/vnd.google.colaboratory.intrinsic+json": {
              "type": "string"
            }
          },
          "metadata": {},
          "execution_count": 16
        }
      ]
    },
    {
      "cell_type": "code",
      "source": [
        "prev_udf=udf(lambda x:check_prev_week(x))"
      ],
      "metadata": {
        "id": "TUe8XCWOO3lZ"
      },
      "execution_count": 17,
      "outputs": []
    },
    {
      "cell_type": "code",
      "source": [
        "res=df.withColumn('pweek',prev_udf(col('login_date')))"
      ],
      "metadata": {
        "id": "jaEC6hxBPdxn"
      },
      "execution_count": 18,
      "outputs": []
    },
    {
      "cell_type": "code",
      "source": [
        "res.show(n=10)"
      ],
      "metadata": {
        "colab": {
          "base_uri": "https://localhost:8080/"
        },
        "id": "cVsY9kFkP_KS",
        "outputId": "cb74e249-9ce6-4951-9b44-078d558e336a"
      },
      "execution_count": 19,
      "outputs": [
        {
          "output_type": "stream",
          "name": "stdout",
          "text": [
            "+---+------+----------+-----+\n",
            "| id|userid|login_date|pweek|\n",
            "+---+------+----------+-----+\n",
            "|  1|     1|01-01-2019|false|\n",
            "|  2|     2|02-01-2019|false|\n",
            "|  3|     3|03-01-2019|false|\n",
            "|  4|     4|04-01-2019|false|\n",
            "|  5|     5|05-01-2019|false|\n",
            "|  6|     6|06-01-2019|false|\n",
            "|  7|     7|07-01-2019|false|\n",
            "|  8|     8|08-01-2019|false|\n",
            "|  9|    68|08-01-2019|false|\n",
            "| 10|     9|09-01-2019|false|\n",
            "+---+------+----------+-----+\n",
            "only showing top 10 rows\n",
            "\n"
          ]
        }
      ]
    },
    {
      "cell_type": "code",
      "source": [
        "def cur_month(str1):\n",
        "  c_dt=datetime.strptime(str1,'%d-%m-%Y')\n",
        "  c_dt=c_dt.date()\n",
        " \n",
        "  day=date.today()\n",
        " \n",
        "  dt=day\n",
        "  \n",
        "  cm_start=dt-timedelta(days=15)\n",
        "  cm_end=cm_start+timedelta(days=29)\n",
        "  \n",
        "  print(dt)\n",
        "  print(cm_start)\n",
        "  print(cm_end)\n",
        "\n",
        "  if cm_start<=c_dt<=cm_end:\n",
        "    return 'true'\n",
        "  else:\n",
        "    return 'false'\n"
      ],
      "metadata": {
        "id": "69-YBLxgQBC4"
      },
      "execution_count": 68,
      "outputs": []
    },
    {
      "cell_type": "code",
      "source": [
        "cur_month('06-12-2020')"
      ],
      "metadata": {
        "colab": {
          "base_uri": "https://localhost:8080/",
          "height": 87
        },
        "id": "sa9_oKNySrWX",
        "outputId": "5de0d6f3-9dbe-4abd-e862-486ef6dfade0"
      },
      "execution_count": 70,
      "outputs": [
        {
          "output_type": "stream",
          "name": "stdout",
          "text": [
            "2022-06-16\n",
            "2022-06-01\n",
            "2022-06-30\n"
          ]
        },
        {
          "output_type": "execute_result",
          "data": {
            "text/plain": [
              "'false'"
            ],
            "application/vnd.google.colaboratory.intrinsic+json": {
              "type": "string"
            }
          },
          "metadata": {},
          "execution_count": 70
        }
      ]
    },
    {
      "cell_type": "code",
      "source": [
        "cur_mon_udf=udf(lambda x:cur_month(x))"
      ],
      "metadata": {
        "id": "BilUv6iCnqXd"
      },
      "execution_count": 71,
      "outputs": []
    },
    {
      "cell_type": "code",
      "source": [
        "df.withColumn('c_month',cur_mon_udf(col('login_date'))).show(n=10)"
      ],
      "metadata": {
        "colab": {
          "base_uri": "https://localhost:8080/"
        },
        "id": "GKjdvAr5nqSE",
        "outputId": "104a175f-4b3c-413a-85aa-e7b88bf85488"
      },
      "execution_count": 72,
      "outputs": [
        {
          "output_type": "stream",
          "name": "stdout",
          "text": [
            "+---+------+----------+-------+\n",
            "| id|userid|login_date|c_month|\n",
            "+---+------+----------+-------+\n",
            "|  1|     1|01-01-2019|  false|\n",
            "|  2|     2|02-01-2019|  false|\n",
            "|  3|     3|03-01-2019|  false|\n",
            "|  4|     4|04-01-2019|  false|\n",
            "|  5|     5|05-01-2019|  false|\n",
            "|  6|     6|06-01-2019|  false|\n",
            "|  7|     7|07-01-2019|  false|\n",
            "|  8|     8|08-01-2019|  false|\n",
            "|  9|    68|08-01-2019|  false|\n",
            "| 10|     9|09-01-2019|  false|\n",
            "+---+------+----------+-------+\n",
            "only showing top 10 rows\n",
            "\n"
          ]
        }
      ]
    },
    {
      "cell_type": "code",
      "source": [
        "def prev_month(str1):\n",
        "  c_dt=datetime.strptime(str1,'%d-%m-%Y')\n",
        "  c_dt=c_dt.date()\n",
        " \n",
        "  day=date.today()\n",
        " \n",
        "  dt=day\n",
        "  cm_start=dt-timedelta(days=15)\n",
        "  pm_start=cm_start-timedelta(days=31)\n",
        "  pm_end= pm_start+timedelta(days=30)\n",
        "  \n",
        "  print(dt)\n",
        "  print( pm_start)\n",
        "  print( pm_end)\n",
        "\n",
        "  if  pm_start<=c_dt<=pm_end:\n",
        "    return 'true'\n",
        "  else:\n",
        "    return 'false'\n"
      ],
      "metadata": {
        "id": "GRhxzk3wTx6U"
      },
      "execution_count": 75,
      "outputs": []
    },
    {
      "cell_type": "code",
      "source": [
        "prev_month('01-06-2020')"
      ],
      "metadata": {
        "colab": {
          "base_uri": "https://localhost:8080/",
          "height": 87
        },
        "id": "1iGq1L9bWnbG",
        "outputId": "fd73c5a5-a5d4-48dc-9aea-68ae2b76e63d"
      },
      "execution_count": 76,
      "outputs": [
        {
          "output_type": "stream",
          "name": "stdout",
          "text": [
            "2022-06-16\n",
            "2022-05-01\n",
            "2022-05-31\n"
          ]
        },
        {
          "output_type": "execute_result",
          "data": {
            "text/plain": [
              "'false'"
            ],
            "application/vnd.google.colaboratory.intrinsic+json": {
              "type": "string"
            }
          },
          "metadata": {},
          "execution_count": 76
        }
      ]
    },
    {
      "cell_type": "code",
      "source": [
        "pv_month_udf=udf(lambda x:prev_month(x))"
      ],
      "metadata": {
        "id": "tBlQgIJ_XbMU"
      },
      "execution_count": 77,
      "outputs": []
    },
    {
      "cell_type": "code",
      "source": [
        "res4=df.withColumn('pmonth',pv_month_udf(col('login_date')))"
      ],
      "metadata": {
        "id": "_4ABpd5xXxpx"
      },
      "execution_count": 78,
      "outputs": []
    },
    {
      "cell_type": "code",
      "source": [
        "res4.show(n=10)"
      ],
      "metadata": {
        "colab": {
          "base_uri": "https://localhost:8080/"
        },
        "id": "vo-Tx5HtYFmv",
        "outputId": "0c8f9605-8afe-414b-b059-2385f3a4ade8"
      },
      "execution_count": 79,
      "outputs": [
        {
          "output_type": "stream",
          "name": "stdout",
          "text": [
            "+---+------+----------+------+\n",
            "| id|userid|login_date|pmonth|\n",
            "+---+------+----------+------+\n",
            "|  1|     1|01-01-2019| false|\n",
            "|  2|     2|02-01-2019| false|\n",
            "|  3|     3|03-01-2019| false|\n",
            "|  4|     4|04-01-2019| false|\n",
            "|  5|     5|05-01-2019| false|\n",
            "|  6|     6|06-01-2019| false|\n",
            "|  7|     7|07-01-2019| false|\n",
            "|  8|     8|08-01-2019| false|\n",
            "|  9|    68|08-01-2019| false|\n",
            "| 10|     9|09-01-2019| false|\n",
            "+---+------+----------+------+\n",
            "only showing top 10 rows\n",
            "\n"
          ]
        }
      ]
    },
    {
      "cell_type": "code",
      "source": [
        "def cur_year(str1):\n",
        "  c_dt=datetime.strptime(str1,'%d-%m-%Y')\n",
        "  c_dt=c_dt.date()\n",
        " \n",
        "  day=date.today()\n",
        " \n",
        "  dt=day\n",
        "  cm_start=dt-timedelta(days=15)\n",
        "  cur_year_start=cm_start-timedelta(days=151)\n",
        "  cur_year_end= cur_year_start+timedelta(days=364)\n",
        "  \n",
        "  print(cm_start)\n",
        "  print(cur_year_start)\n",
        "  print( cur_year_end)\n",
        "\n",
        "  if  cur_year_start<=c_dt<=cur_year_end:\n",
        "    return 'true'\n",
        "  else:\n",
        "    return 'false'\n"
      ],
      "metadata": {
        "id": "1er2cNppYHe4"
      },
      "execution_count": 97,
      "outputs": []
    },
    {
      "cell_type": "code",
      "source": [
        "cur_year('01-06-2019')"
      ],
      "metadata": {
        "colab": {
          "base_uri": "https://localhost:8080/",
          "height": 87
        },
        "id": "ipoC461_lylp",
        "outputId": "366d53e7-fb3a-43f4-9536-a1ae337b6813"
      },
      "execution_count": 96,
      "outputs": [
        {
          "output_type": "stream",
          "name": "stdout",
          "text": [
            "2022-06-01\n",
            "2022-01-01\n",
            "2022-12-31\n"
          ]
        },
        {
          "output_type": "execute_result",
          "data": {
            "text/plain": [
              "'false'"
            ],
            "application/vnd.google.colaboratory.intrinsic+json": {
              "type": "string"
            }
          },
          "metadata": {},
          "execution_count": 96
        }
      ]
    },
    {
      "cell_type": "code",
      "source": [
        "cur_year_udf=udf(lambda x:cur_year(x))"
      ],
      "metadata": {
        "id": "89SBIIhLl750"
      },
      "execution_count": 98,
      "outputs": []
    },
    {
      "cell_type": "code",
      "source": [
        "final_res=df.withColumn('current_year',cur_year_udf(col('login_date')))"
      ],
      "metadata": {
        "id": "Q5F6O8S8mkUy"
      },
      "execution_count": 99,
      "outputs": []
    },
    {
      "cell_type": "code",
      "source": [
        "final_res.show(n=10)"
      ],
      "metadata": {
        "colab": {
          "base_uri": "https://localhost:8080/"
        },
        "id": "pXwhoi8vm4Lg",
        "outputId": "f9848aa6-3d09-4924-d585-9726b6bad26b"
      },
      "execution_count": 100,
      "outputs": [
        {
          "output_type": "stream",
          "name": "stdout",
          "text": [
            "+---+------+----------+------------+\n",
            "| id|userid|login_date|current_year|\n",
            "+---+------+----------+------------+\n",
            "|  1|     1|01-01-2019|       false|\n",
            "|  2|     2|02-01-2019|       false|\n",
            "|  3|     3|03-01-2019|       false|\n",
            "|  4|     4|04-01-2019|       false|\n",
            "|  5|     5|05-01-2019|       false|\n",
            "|  6|     6|06-01-2019|       false|\n",
            "|  7|     7|07-01-2019|       false|\n",
            "|  8|     8|08-01-2019|       false|\n",
            "|  9|    68|08-01-2019|       false|\n",
            "| 10|     9|09-01-2019|       false|\n",
            "+---+------+----------+------------+\n",
            "only showing top 10 rows\n",
            "\n"
          ]
        }
      ]
    },
    {
      "cell_type": "code",
      "source": [
        "def prev_year(str1):\n",
        "  c_dt=datetime.strptime(str1,'%d-%m-%Y')\n",
        "  c_dt=c_dt.date()\n",
        " \n",
        "  day=date.today()\n",
        " \n",
        "  dt=day\n",
        "  cm_start=dt-timedelta(days=15)\n",
        "  cur_year_start=cm_start-timedelta(days=151)\n",
        "  prev_year_start= cur_year_start-timedelta(days=365)\n",
        "  prev_year_end= prev_year_start+timedelta(days=364)\n",
        "\n",
        "  print(cur_year_start)\n",
        "  print( prev_year_start)\n",
        "  print(prev_year_end)\n",
        "\n",
        "  if  prev_year_start<=c_dt<=prev_year_end:\n",
        "    return 'true'\n",
        "  else:\n",
        "    return 'false'\n"
      ],
      "metadata": {
        "id": "LO00odQrnI-q"
      },
      "execution_count": 112,
      "outputs": []
    },
    {
      "cell_type": "code",
      "source": [
        "prev_year('01-01-2021')"
      ],
      "metadata": {
        "colab": {
          "base_uri": "https://localhost:8080/",
          "height": 87
        },
        "id": "r8VTZv9-pTPi",
        "outputId": "15dce0da-8f0d-44ae-aa17-c56eee6b97cc"
      },
      "execution_count": 123,
      "outputs": [
        {
          "output_type": "stream",
          "name": "stdout",
          "text": [
            "2022-01-01\n",
            "2021-01-01\n",
            "2021-12-31\n"
          ]
        },
        {
          "output_type": "execute_result",
          "data": {
            "text/plain": [
              "'true'"
            ],
            "application/vnd.google.colaboratory.intrinsic+json": {
              "type": "string"
            }
          },
          "metadata": {},
          "execution_count": 123
        }
      ]
    },
    {
      "cell_type": "code",
      "source": [
        "prev_year_udf=udf(lambda x:prev_year(x))"
      ],
      "metadata": {
        "id": "-Nq0oaJVpxam"
      },
      "execution_count": 115,
      "outputs": []
    },
    {
      "cell_type": "code",
      "source": [
        "final_res1=df.withColumn('p_year',prev_year_udf(col('login_date')))"
      ],
      "metadata": {
        "id": "yQpGt786qGsr"
      },
      "execution_count": 116,
      "outputs": []
    },
    {
      "cell_type": "code",
      "source": [
        "final_res1.show(n=900)"
      ],
      "metadata": {
        "colab": {
          "base_uri": "https://localhost:8080/"
        },
        "id": "EkdEC-gPqZhd",
        "outputId": "5b327eb8-05f6-4caf-dbfa-d3f88a4633ac"
      },
      "execution_count": 121,
      "outputs": [
        {
          "output_type": "stream",
          "name": "stdout",
          "text": [
            "+---+------+----------+------+\n",
            "| id|userid|login_date|p_year|\n",
            "+---+------+----------+------+\n",
            "|  1|     1|01-01-2019| false|\n",
            "|  2|     2|02-01-2019| false|\n",
            "|  3|     3|03-01-2019| false|\n",
            "|  4|     4|04-01-2019| false|\n",
            "|  5|     5|05-01-2019| false|\n",
            "|  6|     6|06-01-2019| false|\n",
            "|  7|     7|07-01-2019| false|\n",
            "|  8|     8|08-01-2019| false|\n",
            "|  9|    68|08-01-2019| false|\n",
            "| 10|     9|09-01-2019| false|\n",
            "| 11|    10|10-01-2019| false|\n",
            "| 12|     1|01-02-2019| false|\n",
            "| 13|     2|02-02-2019| false|\n",
            "| 14|     3|03-02-2019| false|\n",
            "| 15|     4|04-02-2019| false|\n",
            "| 16|     5|05-02-2019| false|\n",
            "| 17|     6|06-02-2019| false|\n",
            "| 18|     7|07-02-2019| false|\n",
            "| 19|     8|08-02-2019| false|\n",
            "| 20|     9|09-02-2019| false|\n",
            "| 21|    10|10-02-2019| false|\n",
            "| 22|     1|01-03-2019| false|\n",
            "| 23|     2|02-03-2019| false|\n",
            "| 24|     3|03-03-2019| false|\n",
            "| 25|     4|04-03-2019| false|\n",
            "| 26|     5|05-03-2019| false|\n",
            "| 27|     6|06-03-2019| false|\n",
            "| 28|     7|07-03-2019| false|\n",
            "| 29|     8|08-03-2019| false|\n",
            "| 30|     9|09-03-2019| false|\n",
            "| 31|    10|10-03-2019| false|\n",
            "| 32|     1|01-01-2020| false|\n",
            "| 33|     2|02-01-2020| false|\n",
            "| 34|     3|03-01-2020| false|\n",
            "| 35|     4|04-01-2020| false|\n",
            "| 36|     5|05-01-2020| false|\n",
            "| 37|     6|06-01-2020| false|\n",
            "| 38|     7|07-01-2020| false|\n",
            "| 39|     8|08-01-2020| false|\n",
            "| 40|     9|09-01-2020| false|\n",
            "| 41|    10|10-01-2020| false|\n",
            "| 42|    11|11-01-2020| false|\n",
            "| 43|    12|12-01-2020| false|\n",
            "| 44|    13|13-01-2020| false|\n",
            "| 45|    14|14-01-2020| false|\n",
            "| 46|    15|15-01-2020| false|\n",
            "| 47|    16|16-01-2020| false|\n",
            "| 48|    17|17-01-2020| false|\n",
            "| 49|    18|18-01-2020| false|\n",
            "| 50|    19|19-01-2020| false|\n",
            "| 51|    20|20-01-2020| false|\n",
            "| 52|    21|21-01-2020| false|\n",
            "| 53|    22|22-01-2020| false|\n",
            "| 54|    23|23-01-2020| false|\n",
            "| 55|    24|24-01-2020| false|\n",
            "| 56|    25|25-01-2020| false|\n",
            "| 57|    26|26-01-2020| false|\n",
            "| 58|    27|27-01-2020| false|\n",
            "| 59|    28|28-01-2020| false|\n",
            "| 60|    29|29-01-2020| false|\n",
            "| 61|    30|30-01-2020| false|\n",
            "| 62|    31|31-01-2020| false|\n",
            "| 63|    32|01-02-2020| false|\n",
            "| 64|    33|02-02-2020| false|\n",
            "| 65|    34|03-02-2020| false|\n",
            "| 66|    35|04-02-2020| false|\n",
            "| 67|    36|05-02-2020| false|\n",
            "| 68|    37|06-02-2020| false|\n",
            "| 69|    38|07-02-2020| false|\n",
            "| 70|    39|08-02-2020| false|\n",
            "| 71|    40|09-02-2020| false|\n",
            "| 72|    41|10-02-2020| false|\n",
            "| 73|    42|11-02-2020| false|\n",
            "| 74|    43|12-02-2020| false|\n",
            "| 75|    44|13-02-2020| false|\n",
            "| 76|    45|14-02-2020| false|\n",
            "| 77|    46|15-02-2020| false|\n",
            "| 78|    47|16-02-2020| false|\n",
            "| 79|    48|17-02-2020| false|\n",
            "| 80|    49|18-02-2020| false|\n",
            "| 81|    50|19-02-2020| false|\n",
            "| 82|     1|20-02-2020| false|\n",
            "| 83|     2|21-02-2020| false|\n",
            "| 84|     3|22-02-2020| false|\n",
            "| 85|     4|23-02-2020| false|\n",
            "| 86|     5|24-02-2020| false|\n",
            "| 87|     6|25-02-2020| false|\n",
            "| 88|     7|26-02-2020| false|\n",
            "| 89|     8|27-02-2020| false|\n",
            "| 90|     9|28-02-2020| false|\n",
            "| 91|    10|29-02-2020| false|\n",
            "| 92|    11|01-03-2020| false|\n",
            "| 93|    12|02-03-2020| false|\n",
            "| 94|    13|03-03-2020| false|\n",
            "| 95|    14|04-03-2020| false|\n",
            "| 96|    15|05-03-2020| false|\n",
            "| 97|    16|06-03-2020| false|\n",
            "| 98|    17|07-03-2020| false|\n",
            "| 99|    18|08-03-2020| false|\n",
            "|100|    19|09-03-2020| false|\n",
            "|101|    20|10-03-2020| false|\n",
            "|102|    21|11-03-2020| false|\n",
            "|103|    22|12-03-2020| false|\n",
            "|104|    23|13-03-2020| false|\n",
            "|105|    24|14-03-2020| false|\n",
            "|106|    25|15-03-2020| false|\n",
            "|107|    26|16-03-2020| false|\n",
            "|108|    27|17-03-2020| false|\n",
            "|109|    28|18-03-2020| false|\n",
            "|110|    29|19-03-2020| false|\n",
            "|111|    30|20-03-2020| false|\n",
            "|112|    31|21-03-2020| false|\n",
            "|113|    32|22-03-2020| false|\n",
            "|114|    33|23-03-2020| false|\n",
            "|115|    34|24-03-2020| false|\n",
            "|116|    35|25-03-2020| false|\n",
            "|117|    36|26-03-2020| false|\n",
            "|118|    37|27-03-2020| false|\n",
            "|119|    38|28-03-2020| false|\n",
            "|120|    39|29-03-2020| false|\n",
            "|121|    40|30-03-2020| false|\n",
            "|122|    41|31-03-2020| false|\n",
            "|123|    42|01-04-2020| false|\n",
            "|124|    43|02-04-2020| false|\n",
            "|125|    44|03-04-2020| false|\n",
            "|126|    45|04-04-2020| false|\n",
            "|127|    46|05-04-2020| false|\n",
            "|128|    47|06-04-2020| false|\n",
            "|129|    48|07-04-2020| false|\n",
            "|130|    49|08-04-2020| false|\n",
            "|131|    50|09-04-2020| false|\n",
            "|132|     1|10-04-2020| false|\n",
            "|133|     2|11-04-2020| false|\n",
            "|134|     3|12-04-2020| false|\n",
            "|135|     4|13-04-2020| false|\n",
            "|136|     5|14-04-2020| false|\n",
            "|137|     6|15-04-2020| false|\n",
            "|138|     7|16-04-2020| false|\n",
            "|139|     8|17-04-2020| false|\n",
            "|140|     9|18-04-2020| false|\n",
            "|141|    10|19-04-2020| false|\n",
            "|142|    11|20-04-2020| false|\n",
            "|143|    12|21-04-2020| false|\n",
            "|144|    13|22-04-2020| false|\n",
            "|145|    14|23-04-2020| false|\n",
            "|146|    15|24-04-2020| false|\n",
            "|147|    16|25-04-2020| false|\n",
            "|148|    17|26-04-2020| false|\n",
            "|149|    18|27-04-2020| false|\n",
            "|150|    19|28-04-2020| false|\n",
            "|151|    20|29-04-2020| false|\n",
            "|152|    21|30-04-2020| false|\n",
            "|153|    22|01-05-2020| false|\n",
            "|154|    23|02-05-2020| false|\n",
            "|155|    24|03-05-2020| false|\n",
            "|156|    25|04-05-2020| false|\n",
            "|157|    26|05-05-2020| false|\n",
            "|158|    27|06-05-2020| false|\n",
            "|159|    28|07-05-2020| false|\n",
            "|160|    29|08-05-2020| false|\n",
            "|161|    30|09-05-2020| false|\n",
            "|162|    31|10-05-2020| false|\n",
            "|163|    32|11-05-2020| false|\n",
            "|164|    33|12-05-2020| false|\n",
            "|165|    34|13-05-2020| false|\n",
            "|166|    35|14-05-2020| false|\n",
            "|167|    36|15-05-2020| false|\n",
            "|168|    37|16-05-2020| false|\n",
            "|169|    38|17-05-2020| false|\n",
            "|170|    39|18-05-2020| false|\n",
            "|171|    40|19-05-2020| false|\n",
            "|172|    41|20-05-2020| false|\n",
            "|173|    42|21-05-2020| false|\n",
            "|174|    43|22-05-2020| false|\n",
            "|175|    44|23-05-2020| false|\n",
            "|176|    45|24-05-2020| false|\n",
            "|177|    46|25-05-2020| false|\n",
            "|178|    47|26-05-2020| false|\n",
            "|179|    48|27-05-2020| false|\n",
            "|180|    49|28-05-2020| false|\n",
            "|181|    50|29-05-2020| false|\n",
            "|182|     1|30-05-2020| false|\n",
            "|183|     2|31-05-2020| false|\n",
            "|184|     3|01-06-2020| false|\n",
            "|185|     4|02-06-2020| false|\n",
            "|186|     5|03-06-2020| false|\n",
            "|187|     6|04-06-2020| false|\n",
            "|188|     7|05-06-2020| false|\n",
            "|189|     8|06-06-2020| false|\n",
            "|190|     9|07-06-2020| false|\n",
            "|191|    10|08-06-2020| false|\n",
            "|192|    11|09-06-2020| false|\n",
            "|193|    12|10-06-2020| false|\n",
            "|194|    13|11-06-2020| false|\n",
            "|195|    14|12-06-2020| false|\n",
            "|196|    15|13-06-2020| false|\n",
            "|197|    16|14-06-2020| false|\n",
            "|198|    17|15-06-2020| false|\n",
            "|199|    18|16-06-2020| false|\n",
            "|200|    19|17-06-2020| false|\n",
            "|201|    20|18-06-2020| false|\n",
            "|202|    21|19-06-2020| false|\n",
            "|203|    22|20-06-2020| false|\n",
            "|204|    23|21-06-2020| false|\n",
            "|205|    24|22-06-2020| false|\n",
            "|206|    25|23-06-2020| false|\n",
            "|207|    26|24-06-2020| false|\n",
            "|208|    27|25-06-2020| false|\n",
            "|209|    28|26-06-2020| false|\n",
            "|210|    29|27-06-2020| false|\n",
            "|211|    30|28-06-2020| false|\n",
            "|212|    31|29-06-2020| false|\n",
            "|213|    32|30-06-2020| false|\n",
            "|214|    33|01-07-2020| false|\n",
            "|215|    34|02-07-2020| false|\n",
            "|216|    35|03-07-2020| false|\n",
            "|217|    36|04-07-2020| false|\n",
            "|218|    37|05-07-2020| false|\n",
            "|219|    38|06-07-2020| false|\n",
            "|220|    39|07-07-2020| false|\n",
            "|221|    40|08-07-2020| false|\n",
            "|222|    41|09-07-2020| false|\n",
            "|223|    42|10-07-2020| false|\n",
            "|224|    43|11-07-2020| false|\n",
            "|225|    44|12-07-2020| false|\n",
            "|226|    45|13-07-2020| false|\n",
            "|227|    46|14-07-2020| false|\n",
            "|228|    47|15-07-2020| false|\n",
            "|229|    48|16-07-2020| false|\n",
            "|230|    49|17-07-2020| false|\n",
            "|231|    50|18-07-2020| false|\n",
            "|232|     1|19-07-2020| false|\n",
            "|233|     2|20-07-2020| false|\n",
            "|234|     3|21-07-2020| false|\n",
            "|235|     4|22-07-2020| false|\n",
            "|236|     5|23-07-2020| false|\n",
            "|237|     6|24-07-2020| false|\n",
            "|238|     7|25-07-2020| false|\n",
            "|239|     8|26-07-2020| false|\n",
            "|240|     9|27-07-2020| false|\n",
            "|241|    10|28-07-2020| false|\n",
            "|242|    11|29-07-2020| false|\n",
            "|243|    12|30-07-2020| false|\n",
            "|244|    13|31-07-2020| false|\n",
            "|245|    14|01-08-2020| false|\n",
            "|246|    15|02-08-2020| false|\n",
            "|247|    16|03-08-2020| false|\n",
            "|248|    17|04-08-2020| false|\n",
            "|249|    18|05-08-2020| false|\n",
            "|250|    19|06-08-2020| false|\n",
            "|251|    20|07-08-2020| false|\n",
            "|252|    21|08-08-2020| false|\n",
            "|253|    22|09-08-2020| false|\n",
            "|254|    23|10-08-2020| false|\n",
            "|255|    24|11-08-2020| false|\n",
            "|256|    25|12-08-2020| false|\n",
            "|257|    26|13-08-2020| false|\n",
            "|258|    27|14-08-2020| false|\n",
            "|259|    28|15-08-2020| false|\n",
            "|260|    29|16-08-2020| false|\n",
            "|261|    30|17-08-2020| false|\n",
            "|262|    31|18-08-2020| false|\n",
            "|263|    32|19-08-2020| false|\n",
            "|264|    33|20-08-2020| false|\n",
            "|265|    34|21-08-2020| false|\n",
            "|266|    35|22-08-2020| false|\n",
            "|267|    36|23-08-2020| false|\n",
            "|268|    37|24-08-2020| false|\n",
            "|269|    38|25-08-2020| false|\n",
            "|270|    39|26-08-2020| false|\n",
            "|271|    40|27-08-2020| false|\n",
            "|272|    41|28-08-2020| false|\n",
            "|273|    42|29-08-2020| false|\n",
            "|274|    43|30-08-2020| false|\n",
            "|275|    44|31-08-2020| false|\n",
            "|276|    45|01-09-2020| false|\n",
            "|277|    46|02-09-2020| false|\n",
            "|278|    47|03-09-2020| false|\n",
            "|279|    48|04-09-2020| false|\n",
            "|280|    49|05-09-2020| false|\n",
            "|281|    50|06-09-2020| false|\n",
            "|282|     1|01-01-2021|  true|\n",
            "|283|     2|02-01-2021|  true|\n",
            "|284|     3|03-01-2021|  true|\n",
            "|285|     4|04-01-2021|  true|\n",
            "|286|     5|05-01-2021|  true|\n",
            "|287|     6|06-01-2021|  true|\n",
            "|288|     7|07-01-2021|  true|\n",
            "|289|     8|08-01-2021|  true|\n",
            "|290|     9|09-01-2021|  true|\n",
            "|291|    10|10-01-2021|  true|\n",
            "|292|    11|11-01-2021|  true|\n",
            "|293|    12|12-01-2021|  true|\n",
            "|294|    13|13-01-2021|  true|\n",
            "|295|    14|14-01-2021|  true|\n",
            "|296|    15|15-01-2021|  true|\n",
            "|297|    16|16-01-2021|  true|\n",
            "|298|    17|17-01-2021|  true|\n",
            "|299|    18|18-01-2021|  true|\n",
            "|300|    19|19-01-2021|  true|\n",
            "|301|    20|20-01-2021|  true|\n",
            "|302|    21|21-01-2021|  true|\n",
            "|303|    22|22-01-2021|  true|\n",
            "|304|    23|23-01-2021|  true|\n",
            "|305|    24|24-01-2021|  true|\n",
            "|306|    25|25-01-2021|  true|\n",
            "|307|    26|26-01-2021|  true|\n",
            "|308|    27|27-01-2021|  true|\n",
            "|309|    28|28-01-2021|  true|\n",
            "|310|    29|29-01-2021|  true|\n",
            "|311|    30|30-01-2021|  true|\n",
            "|312|    31|31-01-2021|  true|\n",
            "|313|    32|01-02-2021|  true|\n",
            "|314|    33|02-02-2021|  true|\n",
            "|315|    34|03-02-2021|  true|\n",
            "|316|    35|04-02-2021|  true|\n",
            "|317|    36|05-02-2021|  true|\n",
            "|318|    37|06-02-2021|  true|\n",
            "|319|    38|07-02-2021|  true|\n",
            "|320|    39|08-02-2021|  true|\n",
            "|321|    40|09-02-2021|  true|\n",
            "|322|    41|10-02-2021|  true|\n",
            "|323|    42|11-02-2021|  true|\n",
            "|324|    43|12-02-2021|  true|\n",
            "|325|    44|13-02-2021|  true|\n",
            "|326|    45|14-02-2021|  true|\n",
            "|327|    46|15-02-2021|  true|\n",
            "|328|    47|16-02-2021|  true|\n",
            "|329|    48|17-02-2021|  true|\n",
            "|330|    49|18-02-2021|  true|\n",
            "|331|    50|19-02-2021|  true|\n",
            "|332|     1|20-02-2021|  true|\n",
            "|333|     2|21-02-2021|  true|\n",
            "|334|     3|22-02-2021|  true|\n",
            "|335|     4|23-02-2021|  true|\n",
            "|336|     5|24-02-2021|  true|\n",
            "|337|     6|25-02-2021|  true|\n",
            "|338|     7|26-02-2021|  true|\n",
            "|339|     8|27-02-2021|  true|\n",
            "|340|     9|28-02-2021|  true|\n",
            "|341|    10|01-03-2021|  true|\n",
            "|342|    11|02-03-2021|  true|\n",
            "|343|    12|03-03-2021|  true|\n",
            "|344|    13|04-03-2021|  true|\n",
            "|345|    14|05-03-2021|  true|\n",
            "|346|    15|06-03-2021|  true|\n",
            "|347|    16|07-03-2021|  true|\n",
            "|348|    17|08-03-2021|  true|\n",
            "|349|    18|09-03-2021|  true|\n",
            "|350|    19|10-03-2021|  true|\n",
            "|351|    20|11-03-2021|  true|\n",
            "|352|    21|12-03-2021|  true|\n",
            "|353|    22|13-03-2021|  true|\n",
            "|354|    23|14-03-2021|  true|\n",
            "|355|    24|15-03-2021|  true|\n",
            "|356|    25|16-03-2021|  true|\n",
            "|357|    26|17-03-2021|  true|\n",
            "|358|    27|18-03-2021|  true|\n",
            "|359|    28|19-03-2021|  true|\n",
            "|360|    29|20-03-2021|  true|\n",
            "|361|    30|21-03-2021|  true|\n",
            "|362|    31|22-03-2021|  true|\n",
            "|363|    32|23-03-2021|  true|\n",
            "|364|    33|24-03-2021|  true|\n",
            "|365|    34|25-03-2021|  true|\n",
            "|366|    35|26-03-2021|  true|\n",
            "|367|    36|27-03-2021|  true|\n",
            "|368|    37|28-03-2021|  true|\n",
            "|369|    38|29-03-2021|  true|\n",
            "|370|    39|30-03-2021|  true|\n",
            "|371|    40|31-03-2021|  true|\n",
            "|372|    41|01-04-2021|  true|\n",
            "|373|    42|02-04-2021|  true|\n",
            "|374|    43|03-04-2021|  true|\n",
            "|375|    44|04-04-2021|  true|\n",
            "|376|    45|05-04-2021|  true|\n",
            "|377|    46|06-04-2021|  true|\n",
            "|378|    47|07-04-2021|  true|\n",
            "|379|    48|08-04-2021|  true|\n",
            "|380|    49|09-04-2021|  true|\n",
            "|381|    50|10-04-2021|  true|\n",
            "|382|     1|11-04-2021|  true|\n",
            "|383|     2|12-04-2021|  true|\n",
            "|384|     3|13-04-2021|  true|\n",
            "|385|     4|14-04-2021|  true|\n",
            "|386|     5|15-04-2021|  true|\n",
            "|387|     6|16-04-2021|  true|\n",
            "|388|     7|17-04-2021|  true|\n",
            "|389|     8|18-04-2021|  true|\n",
            "|390|     9|19-04-2021|  true|\n",
            "|391|    10|20-04-2021|  true|\n",
            "|392|    11|21-04-2021|  true|\n",
            "|393|    12|22-04-2021|  true|\n",
            "|394|    13|23-04-2021|  true|\n",
            "|395|    14|24-04-2021|  true|\n",
            "|396|    15|25-04-2021|  true|\n",
            "|397|    16|26-04-2021|  true|\n",
            "|398|    17|27-04-2021|  true|\n",
            "|399|    18|28-04-2021|  true|\n",
            "|400|    19|29-04-2021|  true|\n",
            "|401|    20|30-04-2021|  true|\n",
            "|402|    21|01-05-2021|  true|\n",
            "|403|    22|02-05-2021|  true|\n",
            "|404|    23|03-05-2021|  true|\n",
            "|405|    24|04-05-2021|  true|\n",
            "|406|    25|05-05-2021|  true|\n",
            "|407|    26|06-05-2021|  true|\n",
            "|408|    27|07-05-2021|  true|\n",
            "|409|    28|08-05-2021|  true|\n",
            "|410|    29|09-05-2021|  true|\n",
            "|411|    30|10-05-2021|  true|\n",
            "|412|    31|11-05-2021|  true|\n",
            "|413|    32|12-05-2021|  true|\n",
            "|414|    33|13-05-2021|  true|\n",
            "|415|    34|14-05-2021|  true|\n",
            "|416|    35|15-05-2021|  true|\n",
            "|417|    36|16-05-2021|  true|\n",
            "|418|    37|17-05-2021|  true|\n",
            "|419|    38|18-05-2021|  true|\n",
            "|420|    39|19-05-2021|  true|\n",
            "|421|    40|20-05-2021|  true|\n",
            "|422|    41|21-05-2021|  true|\n",
            "|423|    42|22-05-2021|  true|\n",
            "|424|    43|23-05-2021|  true|\n",
            "|425|    44|24-05-2021|  true|\n",
            "|426|    45|25-05-2021|  true|\n",
            "|427|    46|26-05-2021|  true|\n",
            "|428|    47|27-05-2021|  true|\n",
            "|429|    48|28-05-2021|  true|\n",
            "|430|    49|29-05-2021|  true|\n",
            "|431|    50|30-05-2021|  true|\n",
            "|432|     1|31-05-2021|  true|\n",
            "|433|     2|01-06-2021|  true|\n",
            "|434|     3|02-06-2021|  true|\n",
            "|435|     4|03-06-2021|  true|\n",
            "|436|     5|04-06-2021|  true|\n",
            "|437|     6|05-06-2021|  true|\n",
            "|438|     7|06-06-2021|  true|\n",
            "|439|     8|07-06-2021|  true|\n",
            "|440|     9|08-06-2021|  true|\n",
            "|441|    10|09-06-2021|  true|\n",
            "|442|    11|10-06-2021|  true|\n",
            "|443|    12|11-06-2021|  true|\n",
            "|444|    13|12-06-2021|  true|\n",
            "|445|    14|13-06-2021|  true|\n",
            "|446|    15|14-06-2021|  true|\n",
            "|447|    16|15-06-2021|  true|\n",
            "|448|    17|16-06-2021|  true|\n",
            "|449|    18|17-06-2021|  true|\n",
            "|450|    19|18-06-2021|  true|\n",
            "|451|    20|19-06-2021|  true|\n",
            "|452|    21|20-06-2021|  true|\n",
            "|453|    22|21-06-2021|  true|\n",
            "|454|    23|22-06-2021|  true|\n",
            "|455|    24|23-06-2021|  true|\n",
            "|456|    25|24-06-2021|  true|\n",
            "|457|    26|25-06-2021|  true|\n",
            "|458|    27|26-06-2021|  true|\n",
            "|459|    28|27-06-2021|  true|\n",
            "|460|    29|28-06-2021|  true|\n",
            "|461|    30|29-06-2021|  true|\n",
            "|462|    31|30-06-2021|  true|\n",
            "|463|    32|01-07-2021|  true|\n",
            "|464|    33|02-07-2021|  true|\n",
            "|465|    34|03-07-2021|  true|\n",
            "|466|    35|04-07-2021|  true|\n",
            "|467|    36|05-07-2021|  true|\n",
            "|468|    37|06-07-2021|  true|\n",
            "|469|    38|07-07-2021|  true|\n",
            "|470|    39|08-07-2021|  true|\n",
            "|471|    40|09-07-2021|  true|\n",
            "|472|    41|10-07-2021|  true|\n",
            "|473|    42|11-07-2021|  true|\n",
            "|474|    43|12-07-2021|  true|\n",
            "|475|    44|13-07-2021|  true|\n",
            "|476|    45|14-07-2021|  true|\n",
            "|477|    46|15-07-2021|  true|\n",
            "|478|    47|16-07-2021|  true|\n",
            "|479|    48|17-07-2021|  true|\n",
            "|480|    49|18-07-2021|  true|\n",
            "|481|    50|19-07-2021|  true|\n",
            "|482|     1|20-07-2021|  true|\n",
            "|483|     2|21-07-2021|  true|\n",
            "|484|     3|22-07-2021|  true|\n",
            "|485|     4|23-07-2021|  true|\n",
            "|486|     5|24-07-2021|  true|\n",
            "|487|     6|25-07-2021|  true|\n",
            "|488|     7|26-07-2021|  true|\n",
            "|489|     8|27-07-2021|  true|\n",
            "|490|     9|28-07-2021|  true|\n",
            "|491|    10|29-07-2021|  true|\n",
            "|492|    11|30-07-2021|  true|\n",
            "|493|    12|31-07-2021|  true|\n",
            "|494|    13|01-08-2021|  true|\n",
            "|495|    14|02-08-2021|  true|\n",
            "|496|    15|03-08-2021|  true|\n",
            "|497|    16|04-08-2021|  true|\n",
            "|498|    17|05-08-2021|  true|\n",
            "|499|    18|06-08-2021|  true|\n",
            "|500|    19|07-08-2021|  true|\n",
            "|501|    20|08-08-2021|  true|\n",
            "|502|    21|09-08-2021|  true|\n",
            "|503|    22|10-08-2021|  true|\n",
            "|504|    23|11-08-2021|  true|\n",
            "|505|    24|12-08-2021|  true|\n",
            "|506|    25|13-08-2021|  true|\n",
            "|507|    26|14-08-2021|  true|\n",
            "|508|    27|15-08-2021|  true|\n",
            "|509|    28|16-08-2021|  true|\n",
            "|510|    29|17-08-2021|  true|\n",
            "|511|    30|18-08-2021|  true|\n",
            "|512|    31|19-08-2021|  true|\n",
            "|513|    32|20-08-2021|  true|\n",
            "|514|    33|21-08-2021|  true|\n",
            "|515|    34|22-08-2021|  true|\n",
            "|516|    35|23-08-2021|  true|\n",
            "|517|    36|24-08-2021|  true|\n",
            "|518|    37|25-08-2021|  true|\n",
            "|519|    38|26-08-2021|  true|\n",
            "|520|    39|27-08-2021|  true|\n",
            "|521|    40|28-08-2021|  true|\n",
            "|522|    41|29-08-2021|  true|\n",
            "|523|    42|30-08-2021|  true|\n",
            "|524|    43|31-08-2021|  true|\n",
            "|525|    44|01-09-2021|  true|\n",
            "|526|    45|02-09-2021|  true|\n",
            "|527|    46|03-09-2021|  true|\n",
            "|528|    47|04-09-2021|  true|\n",
            "|529|    48|05-09-2021|  true|\n",
            "|530|    49|06-09-2021|  true|\n",
            "|531|    50|07-09-2021|  true|\n",
            "|532|     1|08-09-2021|  true|\n",
            "|533|     2|09-09-2021|  true|\n",
            "|534|     3|10-09-2021|  true|\n",
            "|535|     4|11-09-2021|  true|\n",
            "|536|     5|12-09-2021|  true|\n",
            "|537|     6|13-09-2021|  true|\n",
            "|538|     7|14-09-2021|  true|\n",
            "|539|     8|15-09-2021|  true|\n",
            "|540|     9|16-09-2021|  true|\n",
            "|541|    10|17-09-2021|  true|\n",
            "|542|    11|18-09-2021|  true|\n",
            "|543|    12|19-09-2021|  true|\n",
            "|544|    13|20-09-2021|  true|\n",
            "|545|    14|21-09-2021|  true|\n",
            "|546|    15|22-09-2021|  true|\n",
            "|547|    16|23-09-2021|  true|\n",
            "|548|    17|24-09-2021|  true|\n",
            "|549|    18|25-09-2021|  true|\n",
            "|550|    19|26-09-2021|  true|\n",
            "|551|    20|27-09-2021|  true|\n",
            "|552|    21|28-09-2021|  true|\n",
            "|553|    22|29-09-2021|  true|\n",
            "|554|    23|30-09-2021|  true|\n",
            "|555|    24|01-10-2021|  true|\n",
            "|556|    25|02-10-2021|  true|\n",
            "|557|    26|03-10-2021|  true|\n",
            "|558|    27|04-10-2021|  true|\n",
            "|559|    28|05-10-2021|  true|\n",
            "|560|    29|06-10-2021|  true|\n",
            "|561|    30|07-10-2021|  true|\n",
            "|562|    31|08-10-2021|  true|\n",
            "|563|    32|09-10-2021|  true|\n",
            "|564|    33|10-10-2021|  true|\n",
            "|565|    34|11-10-2021|  true|\n",
            "|566|    35|12-10-2021|  true|\n",
            "|567|    36|13-10-2021|  true|\n",
            "|568|    37|14-10-2021|  true|\n",
            "|569|    38|15-10-2021|  true|\n",
            "|570|    39|16-10-2021|  true|\n",
            "|571|    40|17-10-2021|  true|\n",
            "|572|    41|18-10-2021|  true|\n",
            "|573|    42|19-10-2021|  true|\n",
            "|574|    43|20-10-2021|  true|\n",
            "|575|    44|21-10-2021|  true|\n",
            "|576|    45|22-10-2021|  true|\n",
            "|577|    46|23-10-2021|  true|\n",
            "|578|    47|24-10-2021|  true|\n",
            "|579|    48|25-10-2021|  true|\n",
            "|580|    49|26-10-2021|  true|\n",
            "|581|    50|27-10-2021|  true|\n",
            "|582|     1|28-10-2021|  true|\n",
            "|583|     2|29-10-2021|  true|\n",
            "|584|     3|30-10-2021|  true|\n",
            "|585|     4|31-10-2021|  true|\n",
            "|586|     5|01-11-2021|  true|\n",
            "|587|     6|02-11-2021|  true|\n",
            "|588|     7|03-11-2021|  true|\n",
            "|589|     8|04-11-2021|  true|\n",
            "|590|     9|05-11-2021|  true|\n",
            "|591|    10|06-11-2021|  true|\n",
            "|592|    11|07-11-2021|  true|\n",
            "|593|    12|08-11-2021|  true|\n",
            "|594|    13|09-11-2021|  true|\n",
            "|595|    14|10-11-2021|  true|\n",
            "|596|    15|11-11-2021|  true|\n",
            "|597|    16|12-11-2021|  true|\n",
            "|598|    17|13-11-2021|  true|\n",
            "|599|    18|14-11-2021|  true|\n",
            "|600|    19|15-11-2021|  true|\n",
            "|601|     1|16-11-2021|  true|\n",
            "|602|     2|17-11-2021|  true|\n",
            "|603|     3|18-11-2021|  true|\n",
            "|604|     4|19-11-2021|  true|\n",
            "|605|     5|20-11-2021|  true|\n",
            "|606|     6|21-11-2021|  true|\n",
            "|607|     7|22-11-2021|  true|\n",
            "|608|     8|23-11-2021|  true|\n",
            "|609|     9|24-11-2021|  true|\n",
            "|610|    10|25-11-2021|  true|\n",
            "|611|    11|26-11-2021|  true|\n",
            "|612|    12|27-11-2021|  true|\n",
            "|613|    13|28-11-2021|  true|\n",
            "|614|    14|29-11-2021|  true|\n",
            "|615|    15|30-11-2021|  true|\n",
            "|616|    16|01-12-2021|  true|\n",
            "|617|    17|02-12-2021|  true|\n",
            "|618|    18|03-12-2021|  true|\n",
            "|619|    19|04-12-2021|  true|\n",
            "|620|    20|05-12-2021|  true|\n",
            "|621|    21|06-12-2021|  true|\n",
            "|622|    22|07-12-2021|  true|\n",
            "|623|    23|08-12-2021|  true|\n",
            "|624|    24|09-12-2021|  true|\n",
            "|625|    25|10-12-2021|  true|\n",
            "|626|    26|11-12-2021|  true|\n",
            "|627|    27|12-12-2021|  true|\n",
            "|628|    28|13-12-2021|  true|\n",
            "|629|    29|14-12-2021|  true|\n",
            "|630|    30|15-12-2021|  true|\n",
            "|631|    31|16-12-2021|  true|\n",
            "|632|    32|17-12-2021|  true|\n",
            "|633|    33|18-12-2021|  true|\n",
            "|634|    34|19-12-2021|  true|\n",
            "|635|    35|20-12-2021|  true|\n",
            "|636|    36|21-12-2021|  true|\n",
            "|637|    37|22-12-2021|  true|\n",
            "|638|    38|23-12-2021|  true|\n",
            "|639|    39|24-12-2021|  true|\n",
            "|640|    40|25-12-2021|  true|\n",
            "|641|    41|26-12-2021|  true|\n",
            "|642|    42|27-12-2021|  true|\n",
            "|643|    43|28-12-2021|  true|\n",
            "|644|    44|29-12-2021|  true|\n",
            "|645|    45|30-12-2021|  true|\n",
            "|646|    46|31-12-2021|  true|\n",
            "|647|    47|01-01-2022| false|\n",
            "|648|    48|02-01-2022| false|\n",
            "|649|    49|03-01-2022| false|\n",
            "|650|    50|04-01-2022| false|\n",
            "|651|     1|05-01-2022| false|\n",
            "|652|     2|06-01-2022| false|\n",
            "|653|     3|07-01-2022| false|\n",
            "|654|     4|08-01-2022| false|\n",
            "|655|     5|09-01-2022| false|\n",
            "|656|     6|10-01-2022| false|\n",
            "|657|     7|11-01-2022| false|\n",
            "|658|     8|12-01-2022| false|\n",
            "|659|     9|13-01-2022| false|\n",
            "|660|    10|14-01-2022| false|\n",
            "|661|    11|15-01-2022| false|\n",
            "|662|    12|16-01-2022| false|\n",
            "|663|    13|17-01-2022| false|\n",
            "|664|    14|18-01-2022| false|\n",
            "|665|    15|19-01-2022| false|\n",
            "|666|    16|20-01-2022| false|\n",
            "|667|    17|21-01-2022| false|\n",
            "|668|    18|22-01-2022| false|\n",
            "|669|    19|23-01-2022| false|\n",
            "|670|     1|24-01-2022| false|\n",
            "|671|     2|25-01-2022| false|\n",
            "|672|     3|26-01-2022| false|\n",
            "|673|     4|27-01-2022| false|\n",
            "|674|     5|28-01-2022| false|\n",
            "|675|     6|29-01-2022| false|\n",
            "|676|     7|30-01-2022| false|\n",
            "|677|     8|31-01-2022| false|\n",
            "|678|     9|01-02-2022| false|\n",
            "|679|    10|02-02-2022| false|\n",
            "|680|    11|03-02-2022| false|\n",
            "|681|    12|04-02-2022| false|\n",
            "|682|    13|05-02-2022| false|\n",
            "|683|    14|06-02-2022| false|\n",
            "|684|    15|07-02-2022| false|\n",
            "|685|    16|08-02-2022| false|\n",
            "|686|    17|09-02-2022| false|\n",
            "|687|    18|10-02-2022| false|\n",
            "|688|    19|11-02-2022| false|\n",
            "|689|    20|12-02-2022| false|\n",
            "|690|    21|13-02-2022| false|\n",
            "|691|    22|14-02-2022| false|\n",
            "|692|    23|15-02-2022| false|\n",
            "|693|    24|16-02-2022| false|\n",
            "|694|    25|17-02-2022| false|\n",
            "|695|    26|18-02-2022| false|\n",
            "|696|    27|19-02-2022| false|\n",
            "|697|    28|20-02-2022| false|\n",
            "|698|    29|21-02-2022| false|\n",
            "|699|    30|22-02-2022| false|\n",
            "|700|    31|23-02-2022| false|\n",
            "|701|    32|24-02-2022| false|\n",
            "|702|    33|25-02-2022| false|\n",
            "|703|    34|26-02-2022| false|\n",
            "|704|    35|27-02-2022| false|\n",
            "|705|    36|28-02-2022| false|\n",
            "|706|    37|01-03-2022| false|\n",
            "|707|    38|02-03-2022| false|\n",
            "|708|    39|03-03-2022| false|\n",
            "|709|    40|04-03-2022| false|\n",
            "|710|    41|05-03-2022| false|\n",
            "|711|    42|06-03-2022| false|\n",
            "|712|    43|07-03-2022| false|\n",
            "|713|    44|08-03-2022| false|\n",
            "|714|    45|09-03-2022| false|\n",
            "|715|    46|10-03-2022| false|\n",
            "|716|    47|11-03-2022| false|\n",
            "|717|    48|12-03-2022| false|\n",
            "|718|    49|13-03-2022| false|\n",
            "|719|    50|14-03-2022| false|\n",
            "|720|     1|15-03-2022| false|\n",
            "|721|     2|16-03-2022| false|\n",
            "|722|     3|17-03-2022| false|\n",
            "|723|     4|18-03-2022| false|\n",
            "|724|     5|19-03-2022| false|\n",
            "|725|     6|20-03-2022| false|\n",
            "|726|     7|21-03-2022| false|\n",
            "|727|     8|22-03-2022| false|\n",
            "|728|     9|23-03-2022| false|\n",
            "|729|    10|24-03-2022| false|\n",
            "|730|    11|25-03-2022| false|\n",
            "|731|    12|26-03-2022| false|\n",
            "|732|    13|27-03-2022| false|\n",
            "|733|    14|28-03-2022| false|\n",
            "|734|    15|29-03-2022| false|\n",
            "|735|    16|30-03-2022| false|\n",
            "|736|    17|31-03-2022| false|\n",
            "|737|    18|01-04-2022| false|\n",
            "|738|    19|02-04-2022| false|\n",
            "|739|     1|03-04-2022| false|\n",
            "|740|     2|04-04-2022| false|\n",
            "|741|     3|05-04-2022| false|\n",
            "|742|     4|06-04-2022| false|\n",
            "|743|     5|07-04-2022| false|\n",
            "|744|     6|08-04-2022| false|\n",
            "|745|     7|09-04-2022| false|\n",
            "|746|     8|10-04-2022| false|\n",
            "|747|     9|11-04-2022| false|\n",
            "|748|    10|12-04-2022| false|\n",
            "|749|    11|13-04-2022| false|\n",
            "|750|    12|14-04-2022| false|\n",
            "|751|    13|15-04-2022| false|\n",
            "|752|    14|16-04-2022| false|\n",
            "|753|    15|17-04-2022| false|\n",
            "|754|    16|18-04-2022| false|\n",
            "|755|    17|19-04-2022| false|\n",
            "|756|    18|20-04-2022| false|\n",
            "|757|    19|21-04-2022| false|\n",
            "|758|    20|22-04-2022| false|\n",
            "|759|    21|23-04-2022| false|\n",
            "|760|    22|24-04-2022| false|\n",
            "|761|    23|25-04-2022| false|\n",
            "|762|    24|26-04-2022| false|\n",
            "|763|    25|27-04-2022| false|\n",
            "|764|    26|28-04-2022| false|\n",
            "|765|    27|29-04-2022| false|\n",
            "|766|    28|30-04-2022| false|\n",
            "|767|    29|01-05-2022| false|\n",
            "|768|    30|02-05-2022| false|\n",
            "|769|    31|03-05-2022| false|\n",
            "|770|    32|04-05-2022| false|\n",
            "|771|    33|05-05-2022| false|\n",
            "|772|    34|06-05-2022| false|\n",
            "|773|    35|07-05-2022| false|\n",
            "|774|    36|08-05-2022| false|\n",
            "|775|    37|09-05-2022| false|\n",
            "|776|    38|10-05-2022| false|\n",
            "|777|    39|11-05-2022| false|\n",
            "|778|    40|12-05-2022| false|\n",
            "|779|    41|13-05-2022| false|\n",
            "|780|    42|14-05-2022| false|\n",
            "|781|    43|15-05-2022| false|\n",
            "|782|    44|16-05-2022| false|\n",
            "|783|    45|17-05-2022| false|\n",
            "|784|    46|18-05-2022| false|\n",
            "|785|    47|19-05-2022| false|\n",
            "|786|    48|20-05-2022| false|\n",
            "|787|    49|21-05-2022| false|\n",
            "|788|    50|22-05-2022| false|\n",
            "|789|     1|23-05-2022| false|\n",
            "|790|     2|24-05-2022| false|\n",
            "|791|     3|25-05-2022| false|\n",
            "|792|     4|26-05-2022| false|\n",
            "|793|     5|27-05-2022| false|\n",
            "|794|     6|28-05-2022| false|\n",
            "|795|     7|29-05-2022| false|\n",
            "|796|     8|30-05-2022| false|\n",
            "|797|     9|31-05-2022| false|\n",
            "|798|    10|01-06-2022| false|\n",
            "|799|    11|02-06-2022| false|\n",
            "|800|    12|03-06-2022| false|\n",
            "|801|    13|04-06-2022| false|\n",
            "|802|    14|05-06-2022| false|\n",
            "|803|    15|06-06-2022| false|\n",
            "|804|    16|07-06-2022| false|\n",
            "|805|    17|08-06-2022| false|\n",
            "|806|    18|09-06-2022| false|\n",
            "+---+------+----------+------+\n",
            "\n"
          ]
        }
      ]
    },
    {
      "cell_type": "code",
      "source": [
        ""
      ],
      "metadata": {
        "id": "JdenpwPrqdWU"
      },
      "execution_count": null,
      "outputs": []
    }
  ],
  "metadata": {
    "colab": {
      "collapsed_sections": [],
      "name": "task3.ipynb",
      "provenance": [],
      "authorship_tag": "ABX9TyO1PXafHF5wfdFus0mgQ9+x",
      "include_colab_link": true
    },
    "kernelspec": {
      "display_name": "Python 3",
      "name": "python3"
    },
    "language_info": {
      "name": "python"
    }
  },
  "nbformat": 4,
  "nbformat_minor": 0
}