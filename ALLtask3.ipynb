{
  "nbformat": 4,
  "nbformat_minor": 0,
  "metadata": {
    "colab": {
      "name": "ALLtask3.ipynb",
      "provenance": [],
      "collapsed_sections": [],
      "authorship_tag": "ABX9TyN3Y99TFS6+vak3Z95EQMKv",
      "include_colab_link": true
    },
    "kernelspec": {
      "name": "python3",
      "display_name": "Python 3"
    },
    "language_info": {
      "name": "python"
    }
  },
  "cells": [
    {
      "cell_type": "markdown",
      "metadata": {
        "id": "view-in-github",
        "colab_type": "text"
      },
      "source": [
        "<a href=\"https://colab.research.google.com/github/Mamitakp/VN2_B03_127/blob/main/ALLtask3.ipynb\" target=\"_parent\"><img src=\"https://colab.research.google.com/assets/colab-badge.svg\" alt=\"Open In Colab\"/></a>"
      ]
    },
    {
      "cell_type": "code",
      "execution_count": 1,
      "metadata": {
        "colab": {
          "base_uri": "https://localhost:8080/"
        },
        "id": "NMHDwTgpS7Y2",
        "outputId": "90ff9f63-39e0-441f-d15e-ad618ef77811"
      },
      "outputs": [
        {
          "output_type": "stream",
          "name": "stdout",
          "text": [
            "Looking in indexes: https://pypi.org/simple, https://us-python.pkg.dev/colab-wheels/public/simple/\n",
            "Collecting spark\n",
            "  Downloading spark-0.2.1.tar.gz (41 kB)\n",
            "\u001b[K     |████████████████████████████████| 41 kB 79 kB/s \n",
            "\u001b[?25hBuilding wheels for collected packages: spark\n",
            "  Building wheel for spark (setup.py) ... \u001b[?25l\u001b[?25hdone\n",
            "  Created wheel for spark: filename=spark-0.2.1-py3-none-any.whl size=58762 sha256=ad43dd243f2f13f0baaf37abe53d25ef79ea8bc4bd01aa7c0d23940fc2ee5e04\n",
            "  Stored in directory: /root/.cache/pip/wheels/4e/0e/f1/164619f9920fb447d294afaae11a7715bd442ded7225953d72\n",
            "Successfully built spark\n",
            "Installing collected packages: spark\n",
            "Successfully installed spark-0.2.1\n"
          ]
        }
      ],
      "source": [
        "pip install spark \n"
      ]
    },
    {
      "cell_type": "code",
      "source": [
        "pip install pyspark"
      ],
      "metadata": {
        "colab": {
          "base_uri": "https://localhost:8080/"
        },
        "id": "9gstadLPTMa9",
        "outputId": "f74f6a39-0bfb-47b1-c15f-5e52ada9dd89"
      },
      "execution_count": 2,
      "outputs": [
        {
          "output_type": "stream",
          "name": "stdout",
          "text": [
            "Looking in indexes: https://pypi.org/simple, https://us-python.pkg.dev/colab-wheels/public/simple/\n",
            "Collecting pyspark\n",
            "  Downloading pyspark-3.2.1.tar.gz (281.4 MB)\n",
            "\u001b[K     |████████████████████████████████| 281.4 MB 33 kB/s \n",
            "\u001b[?25hCollecting py4j==0.10.9.3\n",
            "  Downloading py4j-0.10.9.3-py2.py3-none-any.whl (198 kB)\n",
            "\u001b[K     |████████████████████████████████| 198 kB 65.1 MB/s \n",
            "\u001b[?25hBuilding wheels for collected packages: pyspark\n",
            "  Building wheel for pyspark (setup.py) ... \u001b[?25l\u001b[?25hdone\n",
            "  Created wheel for pyspark: filename=pyspark-3.2.1-py2.py3-none-any.whl size=281853642 sha256=ff38ba106bdc0f5aad3519d283e40ac452e50b922625069c093728c36916e315\n",
            "  Stored in directory: /root/.cache/pip/wheels/9f/f5/07/7cd8017084dce4e93e84e92efd1e1d5334db05f2e83bcef74f\n",
            "Successfully built pyspark\n",
            "Installing collected packages: py4j, pyspark\n",
            "Successfully installed py4j-0.10.9.3 pyspark-3.2.1\n"
          ]
        }
      ]
    },
    {
      "cell_type": "code",
      "source": [
        "from pyspark.sql import *\n",
        "from pyspark.sql import SparkSession\n",
        "\n",
        "spark=SparkSession.builder.appName('colab').getOrCreate()"
      ],
      "metadata": {
        "id": "gTvNkO8XTWqs"
      },
      "execution_count": 3,
      "outputs": []
    },
    {
      "cell_type": "code",
      "source": [
        "df=spark.read.csv(r'/content/data_prep .csv',inferSchema=True,header=True)"
      ],
      "metadata": {
        "id": "EwJoYPkdUlIF"
      },
      "execution_count": 4,
      "outputs": []
    },
    {
      "cell_type": "code",
      "source": [
        "df.show()"
      ],
      "metadata": {
        "colab": {
          "base_uri": "https://localhost:8080/"
        },
        "id": "eb0hL5VmV2d1",
        "outputId": "29848b20-a7e2-4057-c588-bec59d0f1f92"
      },
      "execution_count": 5,
      "outputs": [
        {
          "output_type": "stream",
          "name": "stdout",
          "text": [
            "+------+----------------+----------+------+-----------+\n",
            "|userid|         emailid|      date|amount|   discount|\n",
            "+------+----------------+----------+------+-----------+\n",
            "|     1| test1@gmail.com|01-01-2019|   100|        1.0|\n",
            "|     2| test2@gmail.com|02-01-2019|   100|        1.0|\n",
            "|     3| test3@gmail.com|03-01-2019|   101|        2.0|\n",
            "|     4| test4@gmail.com|04-01-2019|   102|       10.0|\n",
            "|     5| test5@gmail.com|05-01-2019| 102.5|        2.0|\n",
            "|     6| test6@gmail.com|06-01-2019| 103.2|        1.0|\n",
            "|     7| test7@gmail.com|07-01-2019| 103.9|        3.0|\n",
            "|     8| test8@gmail.com|08-01-2019| 104.6|        5.0|\n",
            "|     9| test9@gmail.com|09-01-2019| 105.3|4.571428571|\n",
            "|    10|test10@gmail.com|10-01-2019|   106|4.892857143|\n",
            "|    11|test11@gmail.com|11-01-2019| 106.7|5.214285714|\n",
            "|    12|test12@gmail.com|12-01-2019| 107.4|5.535714286|\n",
            "|    13|test13@gmail.com|13-01-2019| 108.1|5.857142857|\n",
            "|    14|test14@gmail.com|14-01-2019| 108.8|6.178571429|\n",
            "|    15|test15@gmail.com|15-01-2019| 109.5|        6.5|\n",
            "|    16|test16@gmail.com|16-01-2019| 110.2|6.821428571|\n",
            "|    17|test17@gmail.com|17-01-2019| 110.9|7.142857143|\n",
            "|    18|test18@gmail.com|18-01-2019| 111.6|7.464285714|\n",
            "|    19|test19@gmail.com|19-01-2019| 112.3|7.785714286|\n",
            "|    20|test20@gmail.com|20-01-2019|   113|8.107142857|\n",
            "+------+----------------+----------+------+-----------+\n",
            "only showing top 20 rows\n",
            "\n"
          ]
        }
      ]
    },
    {
      "cell_type": "code",
      "source": [
        "from datetime import datetime\n",
        "\n",
        "def try_parsing_date(text):\n",
        "    for fmt in ('%Y-%m-%d','%dd-%mm-%yyyy', '%d.%m.%Y','%d-%m-%Y'):\n",
        "        try:\n",
        "            date_object=datetime.strptime(text, fmt)\n",
        "            converted_date_object=date_object.strftime('%Y-%m-%d')\n",
        "            return converted_date_object\n",
        "\n",
        "        except ValueError:\n",
        "            pass\n",
        "    raise ValueError('no valid date format found')"
      ],
      "metadata": {
        "id": "iqZcRARdWUjh"
      },
      "execution_count": 37,
      "outputs": []
    },
    {
      "cell_type": "code",
      "source": [
        "try_parsing_date('18-01-2019')"
      ],
      "metadata": {
        "colab": {
          "base_uri": "https://localhost:8080/",
          "height": 35
        },
        "id": "oNeZyeCYQEUs",
        "outputId": "0f153191-f04c-4d57-c0ab-79a2dc8fcb91"
      },
      "execution_count": 38,
      "outputs": [
        {
          "output_type": "execute_result",
          "data": {
            "text/plain": [
              "'2019-01-18'"
            ],
            "application/vnd.google.colaboratory.intrinsic+json": {
              "type": "string"
            }
          },
          "metadata": {},
          "execution_count": 38
        }
      ]
    },
    {
      "cell_type": "code",
      "source": [
        "from pyspark.sql.functions import *\n",
        "from pyspark.sql.types import *\n",
        "\n",
        "\n",
        "date_udf= udf(lambda val:try_parsing_date(val))"
      ],
      "metadata": {
        "id": "mMNjktQgo5j2"
      },
      "execution_count": 39,
      "outputs": []
    },
    {
      "cell_type": "code",
      "source": [
        "result=df.select(col('date'),date_udf(col('date')).alias('date_t')).show()"
      ],
      "metadata": {
        "colab": {
          "base_uri": "https://localhost:8080/"
        },
        "id": "AZYugYA2tvf8",
        "outputId": "5bf9f814-fa03-4ea4-c555-397ed3947e44"
      },
      "execution_count": 41,
      "outputs": [
        {
          "output_type": "stream",
          "name": "stdout",
          "text": [
            "+----------+----------+\n",
            "|      date|    date_t|\n",
            "+----------+----------+\n",
            "|01-01-2019|2019-01-01|\n",
            "|02-01-2019|2019-01-02|\n",
            "|03-01-2019|2019-01-03|\n",
            "|04-01-2019|2019-01-04|\n",
            "|05-01-2019|2019-01-05|\n",
            "|06-01-2019|2019-01-06|\n",
            "|07-01-2019|2019-01-07|\n",
            "|08-01-2019|2019-01-08|\n",
            "|09-01-2019|2019-01-09|\n",
            "|10-01-2019|2019-01-10|\n",
            "|11-01-2019|2019-01-11|\n",
            "|12-01-2019|2019-01-12|\n",
            "|13-01-2019|2019-01-13|\n",
            "|14-01-2019|2019-01-14|\n",
            "|15-01-2019|2019-01-15|\n",
            "|16-01-2019|2019-01-16|\n",
            "|17-01-2019|2019-01-17|\n",
            "|18-01-2019|2019-01-18|\n",
            "|19-01-2019|2019-01-19|\n",
            "|20-01-2019|2019-01-20|\n",
            "+----------+----------+\n",
            "only showing top 20 rows\n",
            "\n"
          ]
        }
      ]
    },
    {
      "cell_type": "code",
      "source": [
        "df.count()"
      ],
      "metadata": {
        "colab": {
          "base_uri": "https://localhost:8080/"
        },
        "id": "XxD5xJjuUgEq",
        "outputId": "1b16764e-2113-480a-88c4-d54b65c73f29"
      },
      "execution_count": 44,
      "outputs": [
        {
          "output_type": "execute_result",
          "data": {
            "text/plain": [
              "902"
            ]
          },
          "metadata": {},
          "execution_count": 44
        }
      ]
    },
    {
      "cell_type": "code",
      "source": [
        "df.dropna().count()"
      ],
      "metadata": {
        "colab": {
          "base_uri": "https://localhost:8080/"
        },
        "id": "hvMR7ov-HaJR",
        "outputId": "df785c10-4e77-4630-b3eb-cad63f8a9c21"
      },
      "execution_count": 43,
      "outputs": [
        {
          "output_type": "execute_result",
          "data": {
            "text/plain": [
              "901"
            ]
          },
          "metadata": {},
          "execution_count": 43
        }
      ]
    },
    {
      "cell_type": "code",
      "source": [
        "df.dropDuplicates().count()"
      ],
      "metadata": {
        "colab": {
          "base_uri": "https://localhost:8080/"
        },
        "id": "VmM6Ug4nUTSw",
        "outputId": "ae859d7a-28f0-43d8-c270-47890beec80a"
      },
      "execution_count": 45,
      "outputs": [
        {
          "output_type": "execute_result",
          "data": {
            "text/plain": [
              "901"
            ]
          },
          "metadata": {},
          "execution_count": 45
        }
      ]
    },
    {
      "cell_type": "code",
      "source": [
        "pip install validate_email"
      ],
      "metadata": {
        "colab": {
          "base_uri": "https://localhost:8080/"
        },
        "id": "uBFyiF1FUyBp",
        "outputId": "74d583f3-57b5-4057-dd83-d17af69153f4"
      },
      "execution_count": 46,
      "outputs": [
        {
          "output_type": "stream",
          "name": "stdout",
          "text": [
            "Looking in indexes: https://pypi.org/simple, https://us-python.pkg.dev/colab-wheels/public/simple/\n",
            "Collecting validate_email\n",
            "  Downloading validate_email-1.3.tar.gz (4.7 kB)\n",
            "Building wheels for collected packages: validate-email\n",
            "  Building wheel for validate-email (setup.py) ... \u001b[?25l\u001b[?25hdone\n",
            "  Created wheel for validate-email: filename=validate_email-1.3-py3-none-any.whl size=5482 sha256=eace03a2697ce5a1471340daf77f9d2a156886794ea447f14611ceef84abab3d\n",
            "  Stored in directory: /root/.cache/pip/wheels/ff/8f/92/c43287715852eaa75e0d8aa1941c481072b4a82c4f4975074e\n",
            "Successfully built validate-email\n",
            "Installing collected packages: validate-email\n",
            "Successfully installed validate-email-1.3\n"
          ]
        }
      ]
    },
    {
      "cell_type": "code",
      "source": [
        "from validate_email import validate_email\n"
      ],
      "metadata": {
        "id": "YWlxXfKVadPE"
      },
      "execution_count": 53,
      "outputs": []
    },
    {
      "cell_type": "code",
      "source": [
        "is_valid=validate_email('test13@gmail.com')"
      ],
      "metadata": {
        "id": "IiEObyFkaVxu"
      },
      "execution_count": 54,
      "outputs": []
    },
    {
      "cell_type": "code",
      "source": [
        "def valid_parse(str1):\n",
        "  is_valid=validate_email(str1)\n",
        "  if is_valid:\n",
        "    return str1\n",
        "  else:\n",
        "    'error'\n"
      ],
      "metadata": {
        "id": "2Du4XEI_V20C"
      },
      "execution_count": 63,
      "outputs": []
    },
    {
      "cell_type": "code",
      "source": [
        "print(is_valid)"
      ],
      "metadata": {
        "colab": {
          "base_uri": "https://localhost:8080/"
        },
        "id": "qmNBIt-zZQQE",
        "outputId": "213c1f5a-7929-4ee4-ce0c-2cc4fafcb097"
      },
      "execution_count": 64,
      "outputs": [
        {
          "output_type": "stream",
          "name": "stdout",
          "text": [
            "True\n"
          ]
        }
      ]
    },
    {
      "cell_type": "code",
      "source": [
        "email_udf=udf(lambda x:valid_parse(x))"
      ],
      "metadata": {
        "id": "A9qns5HMZplh"
      },
      "execution_count": 65,
      "outputs": []
    },
    {
      "cell_type": "code",
      "source": [
        "final_result=df.select(col('emailid'),email_udf(col('emailid')).alias('new_res'))"
      ],
      "metadata": {
        "id": "ckiOCYPLcNHs"
      },
      "execution_count": 66,
      "outputs": []
    },
    {
      "cell_type": "code",
      "source": [
        "final_result.show(n=10)"
      ],
      "metadata": {
        "colab": {
          "base_uri": "https://localhost:8080/"
        },
        "id": "ssNAq_uoc7Hm",
        "outputId": "b0fb5231-e894-49fe-99b0-f41e8f4765ce"
      },
      "execution_count": 67,
      "outputs": [
        {
          "output_type": "stream",
          "name": "stdout",
          "text": [
            "+----------------+----------------+\n",
            "|         emailid|         new_res|\n",
            "+----------------+----------------+\n",
            "| test1@gmail.com| test1@gmail.com|\n",
            "| test2@gmail.com| test2@gmail.com|\n",
            "| test3@gmail.com| test3@gmail.com|\n",
            "| test4@gmail.com| test4@gmail.com|\n",
            "| test5@gmail.com| test5@gmail.com|\n",
            "| test6@gmail.com| test6@gmail.com|\n",
            "| test7@gmail.com| test7@gmail.com|\n",
            "| test8@gmail.com| test8@gmail.com|\n",
            "| test9@gmail.com| test9@gmail.com|\n",
            "|test10@gmail.com|test10@gmail.com|\n",
            "+----------------+----------------+\n",
            "only showing top 10 rows\n",
            "\n"
          ]
        }
      ]
    },
    {
      "cell_type": "code",
      "source": [
        ""
      ],
      "metadata": {
        "id": "APogDq8VdIXR"
      },
      "execution_count": null,
      "outputs": []
    }
  ]
}