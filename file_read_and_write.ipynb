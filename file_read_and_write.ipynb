{
  "nbformat": 4,
  "nbformat_minor": 0,
  "metadata": {
    "colab": {
      "name": "file read and write.ipynb",
      "provenance": [],
      "collapsed_sections": [],
      "authorship_tag": "ABX9TyMTQNMhisnNueWe1Cf+BW0A",
      "include_colab_link": true
    },
    "kernelspec": {
      "name": "python3",
      "display_name": "Python 3"
    },
    "language_info": {
      "name": "python"
    }
  },
  "cells": [
    {
      "cell_type": "markdown",
      "metadata": {
        "id": "view-in-github",
        "colab_type": "text"
      },
      "source": [
        "<a href=\"https://colab.research.google.com/github/Mamitakp/VN2_B03_127/blob/main/file_read_and_write.ipynb\" target=\"_parent\"><img src=\"https://colab.research.google.com/assets/colab-badge.svg\" alt=\"Open In Colab\"/></a>"
      ]
    },
    {
      "cell_type": "code",
      "execution_count": 2,
      "metadata": {
        "colab": {
          "base_uri": "https://localhost:8080/"
        },
        "id": "rbXShsW5iJVQ",
        "outputId": "e4a31b88-2cb6-40d5-c353-6cbcb59ff7d0"
      },
      "outputs": [
        {
          "output_type": "stream",
          "name": "stdout",
          "text": [
            "Looking in indexes: https://pypi.org/simple, https://us-python.pkg.dev/colab-wheels/public/simple/\n",
            "Collecting spark\n",
            "  Downloading spark-0.2.1.tar.gz (41 kB)\n",
            "\u001b[K     |████████████████████████████████| 41 kB 72 kB/s \n",
            "\u001b[?25hBuilding wheels for collected packages: spark\n",
            "  Building wheel for spark (setup.py) ... \u001b[?25l\u001b[?25hdone\n",
            "  Created wheel for spark: filename=spark-0.2.1-py3-none-any.whl size=58762 sha256=a90ef031786e1bfdf30e82a7cdde25154a0ec483be3b295668387eaa1f5871d9\n",
            "  Stored in directory: /root/.cache/pip/wheels/4e/0e/f1/164619f9920fb447d294afaae11a7715bd442ded7225953d72\n",
            "Successfully built spark\n",
            "Installing collected packages: spark\n",
            "Successfully installed spark-0.2.1\n"
          ]
        }
      ],
      "source": [
        "pip install spark \n"
      ]
    },
    {
      "cell_type": "code",
      "source": [
        "pip install pyspark\n"
      ],
      "metadata": {
        "colab": {
          "base_uri": "https://localhost:8080/"
        },
        "id": "yKRULiel7gr1",
        "outputId": "6a4231fe-c1f0-48a5-da93-88499b18a41f"
      },
      "execution_count": 3,
      "outputs": [
        {
          "output_type": "stream",
          "name": "stdout",
          "text": [
            "Looking in indexes: https://pypi.org/simple, https://us-python.pkg.dev/colab-wheels/public/simple/\n",
            "Collecting pyspark\n",
            "  Downloading pyspark-3.2.1.tar.gz (281.4 MB)\n",
            "\u001b[K     |████████████████████████████████| 281.4 MB 34 kB/s \n",
            "\u001b[?25hCollecting py4j==0.10.9.3\n",
            "  Downloading py4j-0.10.9.3-py2.py3-none-any.whl (198 kB)\n",
            "\u001b[K     |████████████████████████████████| 198 kB 56.0 MB/s \n",
            "\u001b[?25hBuilding wheels for collected packages: pyspark\n",
            "  Building wheel for pyspark (setup.py) ... \u001b[?25l\u001b[?25hdone\n",
            "  Created wheel for pyspark: filename=pyspark-3.2.1-py2.py3-none-any.whl size=281853642 sha256=2f228ff1ae1ba4c81eb666cccd407efdc84e0fb35ad345f7bfdeffb9b1250fd2\n",
            "  Stored in directory: /root/.cache/pip/wheels/9f/f5/07/7cd8017084dce4e93e84e92efd1e1d5334db05f2e83bcef74f\n",
            "Successfully built pyspark\n",
            "Installing collected packages: py4j, pyspark\n",
            "Successfully installed py4j-0.10.9.3 pyspark-3.2.1\n"
          ]
        }
      ]
    },
    {
      "cell_type": "code",
      "source": [
        "from pyspark.sql import *\n",
        "\n",
        "spark=SparkSession.builder.appName('colab').getOrCreate()"
      ],
      "metadata": {
        "id": "iNqCCAo47rM_"
      },
      "execution_count": 4,
      "outputs": []
    },
    {
      "cell_type": "code",
      "source": [
        "df=spark.read.json(r'/content/part-00000-74edbdc7-7bd4-43c1-aabd-2d069628baf8-c000.json')"
      ],
      "metadata": {
        "id": "O0t01kqn9Ayj"
      },
      "execution_count": 6,
      "outputs": []
    },
    {
      "cell_type": "code",
      "source": [
        "df.show()"
      ],
      "metadata": {
        "colab": {
          "base_uri": "https://localhost:8080/"
        },
        "id": "LXcOFbBE9eET",
        "outputId": "e9089aa6-2bff-4f2a-b0c6-1c3f1e051be1"
      },
      "execution_count": 7,
      "outputs": [
        {
          "output_type": "stream",
          "name": "stdout",
          "text": [
            "+------+----------+-----------+----------------+-----+------+----+\n",
            "|amount|      date|   discount|         emailid|month|userid|year|\n",
            "+------+----------+-----------+----------------+-----+------+----+\n",
            "|   100|01-01-2019|        1.0| test1@gmail.com|   01|     1|2019|\n",
            "|   100|02-01-2019|        1.0| test2@gmail.com|   01|     2|2019|\n",
            "|   101|03-01-2019|        2.0| test3@gmail.com|   01|     3|2019|\n",
            "|   102|04-01-2019|       10.0| test4@gmail.com|   01|     4|2019|\n",
            "| 102.5|05-01-2019|        2.0| test5@gmail.com|   01|     5|2019|\n",
            "| 103.2|06-01-2019|        1.0| test6@gmail.com|   01|     6|2019|\n",
            "| 103.9|07-01-2019|        3.0| test7@gmail.com|   01|     7|2019|\n",
            "| 104.6|08-01-2019|        5.0| test8@gmail.com|   01|     8|2019|\n",
            "| 105.3|09-01-2019|4.571428571| test9@gmail.com|   01|     9|2019|\n",
            "|   106|10-01-2019|4.892857143|test10@gmail.com|   01|    10|2019|\n",
            "| 106.7|11-01-2019|5.214285714|test11@gmail.com|   01|    11|2019|\n",
            "| 107.4|12-01-2019|5.535714286|test12@gmail.com|   01|    12|2019|\n",
            "| 108.1|13-01-2019|5.857142857|test13@gmail.com|   01|    13|2019|\n",
            "| 108.8|14-01-2019|6.178571429|test14@gmail.com|   01|    14|2019|\n",
            "| 109.5|15-01-2019|        6.5|test15@gmail.com|   01|    15|2019|\n",
            "| 110.2|16-01-2019|6.821428571|test16@gmail.com|   01|    16|2019|\n",
            "| 110.9|17-01-2019|7.142857143|test17@gmail.com|   01|    17|2019|\n",
            "| 111.6|18-01-2019|7.464285714|test18@gmail.com|   01|    18|2019|\n",
            "| 112.3|19-01-2019|7.785714286|test19@gmail.com|   01|    19|2019|\n",
            "|   113|20-01-2019|8.107142857|test20@gmail.com|   01|    20|2019|\n",
            "+------+----------+-----------+----------------+-----+------+----+\n",
            "only showing top 20 rows\n",
            "\n"
          ]
        }
      ]
    },
    {
      "cell_type": "code",
      "source": [
        "df1=spark.read.parquet(r'/content/userdata4')"
      ],
      "metadata": {
        "id": "I0Xa0Gja9nOS"
      },
      "execution_count": 10,
      "outputs": []
    },
    {
      "cell_type": "code",
      "source": [
        "df1.show()"
      ],
      "metadata": {
        "colab": {
          "base_uri": "https://localhost:8080/"
        },
        "id": "VPY-OoMpKtI8",
        "outputId": "7d972dd6-6147-4b08-d870-817b72517d9c"
      },
      "execution_count": 11,
      "outputs": [
        {
          "output_type": "stream",
          "name": "stdout",
          "text": [
            "+-------------------+---+----------+----------+--------------------+------+---------------+-------------------+-------------+----------+---------+--------------------+--------+\n",
            "|  registration_dttm| id|first_name| last_name|               email|gender|     ip_address|                 cc|      country| birthdate|   salary|               title|comments|\n",
            "+-------------------+---+----------+----------+--------------------+------+---------------+-------------------+-------------+----------+---------+--------------------+--------+\n",
            "|2016-02-04 15:28:05|  1|    Howard|    Morgan|hmorgan0@typepad.com|      | 158.178.195.62|                   |     Colombia| 12/2/1992|     null|     Data Coordiator|        |\n",
            "|2016-02-04 10:28:40|  2|   Jessica|   Schmidt|jschmidt1@google.com|Female| 168.118.247.35|   3565285464047941|   Luxembourg| 4/14/1995|222396.46|      Research Nurse|     nil|\n",
            "|2016-02-04 18:01:36|  3|   Beverly|    Flores|bflores2@wikipedi...|Female|   51.97.88.173|                   |       Sweden| 2/15/1965| 141112.8|             Actuary|        |\n",
            "|2016-02-04 08:51:14|  4|   Marilyn|   Sanchez| msanchez3@intel.com|Female|186.206.142.162|                   |        China|  8/6/1969| 87914.29| Structural Engineer|        |\n",
            "|2016-02-04 06:33:08|  5|    Janice|  Mitchell|jmitchell4@sina.c...|Female|205.187.116.241|5610719759939376962|       Poland|  7/4/1995| 269297.4|Systems Administr...|        |\n",
            "|2016-02-04 00:20:27|  6|   William|Williamson|wwilliamson5@trel...|  Male|   44.86.73.201|    201849487683564|    Indonesia| 12/6/1993| 95352.25|           Librarian|   1E+02|\n",
            "|2016-02-04 16:10:12|  7|      Jack|     James|   jjames6@sogou.com|  Male|  59.184.76.208|   3552911855395632|    Indonesia|11/25/1968| 82549.73|Compensation Analyst| ‪‪test‪|\n",
            "|2016-02-04 03:25:25|  8|     Jesse|    Arnold|    jarnold7@soup.io|  Male|     7.25.90.13|   5100177285965756|       Brazil|10/19/1987|257968.86| Executive Secretary|        |\n",
            "|2016-02-04 21:50:27|  9|      Lori|     Woods|lwoods8@fastcompa...|Female|  147.157.215.9|   4844532485570190|    Indonesia|12/26/1975|186145.91|      Health Coach I|        |\n",
            "|2016-02-04 15:57:35| 10|      Juan|     Evans|  jevans9@zimbio.com|  Male|150.132.218.181|   3578802610769023|  Philippines| 5/29/1988|129369.52|       Social Worker|        |\n",
            "|2016-02-04 09:51:30| 11|       Roy|  Matthews| rmatthewsa@ucsd.edu|  Male| 203.239.85.224|   5100135134598509|       Russia|          |192057.84|                    |        |\n",
            "|2016-02-04 11:42:25| 12|   Kenneth|      King|   kkingb@zimbio.com|      |   9.103.96.206| 675913564329481832|       Greece|          |     null|                    |        |\n",
            "|2016-02-04 06:50:00| 13|   Raymond|     Green|     rgreenc@fc2.com|  Male|   163.9.101.43|                   |United States| 1/28/1984|225094.01|Budget/Accounting...|        |\n",
            "|2016-02-04 16:28:20| 14|   Lillian|  Stephens|  lstephensd@psu.edu|Female|   31.50.183.23| 630455284969060148|      Finland|  6/1/1973| 19354.85|Information Syste...|        |\n",
            "|2016-02-04 04:38:17| 15|      Mary|  Gonzales|mgonzalese@wired.com|Female|   91.42.17.109|   3560985473023370|       France|  5/7/1966| 23746.36|Compensation Analyst|        |\n",
            "|2016-02-04 04:58:15| 16|     Roger|     Mason|rmasonf@newyorker...|  Male| 169.33.172.204|   3545036194973129|       Norway|          |165855.47|                    |        |\n",
            "|2016-02-04 16:43:18| 17|     Diane|      Cole|   dcoleg@unesco.org|Female|  157.11.85.209|                   |  Philippines|  6/9/1994|105028.67|   Assistant Manager|        |\n",
            "|2016-02-04 15:54:30| 18|     Annie|      Hunt|    ahunth@ocn.ne.jp|Female| 169.47.232.187|   5100177440436305|       Poland| 3/30/1992| 266071.6|     Legal Assistant|        |\n",
            "|2016-02-04 15:47:52| 19|Jacqueline|   Bradley|   jbradleyi@epa.gov|Female|  83.241.214.77|   5100131814165289|    Indonesia| 12/1/1971| 55440.88|    Dental Hygienist|        |\n",
            "|2016-02-04 15:37:28| 20|     Kathy|   Russell|krussellj@joomla.org|Female|   158.32.89.44|   3585627581021729|    Indonesia|11/20/1999| 29602.23|Sales Representative|        |\n",
            "+-------------------+---+----------+----------+--------------------+------+---------------+-------------------+-------------+----------+---------+--------------------+--------+\n",
            "only showing top 20 rows\n",
            "\n"
          ]
        }
      ]
    },
    {
      "cell_type": "code",
      "source": [
        ""
      ],
      "metadata": {
        "id": "fK2r-LPWNAnM"
      },
      "execution_count": null,
      "outputs": []
    }
  ]
}