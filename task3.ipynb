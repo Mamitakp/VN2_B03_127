{
  "cells": [
    {
      "cell_type": "markdown",
      "metadata": {
        "id": "view-in-github",
        "colab_type": "text"
      },
      "source": [
        "<a href=\"https://colab.research.google.com/github/Mamitakp/VN2_B03_127/blob/main/task3.ipynb\" target=\"_parent\"><img src=\"https://colab.research.google.com/assets/colab-badge.svg\" alt=\"Open In Colab\"/></a>"
      ]
    },
    {
      "cell_type": "code",
      "execution_count": 62,
      "metadata": {
        "colab": {
          "base_uri": "https://localhost:8080/"
        },
        "id": "vKuMB0ov7s4L",
        "outputId": "9bc51120-c911-4779-da75-998bd64a4659"
      },
      "outputs": [
        {
          "output_type": "stream",
          "name": "stdout",
          "text": [
            "Looking in indexes: https://pypi.org/simple, https://us-python.pkg.dev/colab-wheels/public/simple/\n",
            "Requirement already satisfied: spark in /usr/local/lib/python3.7/dist-packages (0.2.1)\n"
          ]
        }
      ],
      "source": [
        "pip install spark"
      ]
    },
    {
      "cell_type": "code",
      "execution_count": 63,
      "metadata": {
        "colab": {
          "base_uri": "https://localhost:8080/"
        },
        "id": "Zs4xb84e7woG",
        "outputId": "01672b73-21dd-485c-c549-3a5e6b39ca67"
      },
      "outputs": [
        {
          "output_type": "stream",
          "name": "stdout",
          "text": [
            "Looking in indexes: https://pypi.org/simple, https://us-python.pkg.dev/colab-wheels/public/simple/\n",
            "Requirement already satisfied: pyspark in /usr/local/lib/python3.7/dist-packages (3.2.1)\n",
            "Requirement already satisfied: py4j==0.10.9.3 in /usr/local/lib/python3.7/dist-packages (from pyspark) (0.10.9.3)\n"
          ]
        }
      ],
      "source": [
        "pip install pyspark"
      ]
    },
    {
      "cell_type": "code",
      "execution_count": 64,
      "metadata": {
        "id": "3VRQBbWa77h1"
      },
      "outputs": [],
      "source": [
        "from pyspark.sql import *\n",
        "from pyspark.sql import SparkSession\n",
        "from pyspark.sql.functions import *\n",
        "from pyspark.sql.types import *"
      ]
    },
    {
      "cell_type": "code",
      "execution_count": 65,
      "metadata": {
        "id": "eoGWvHpq8jfT"
      },
      "outputs": [],
      "source": [
        "spark=SparkSession.builder.appName('colab').getOrCreate()"
      ]
    },
    {
      "cell_type": "code",
      "execution_count": 66,
      "metadata": {
        "id": "KavwFAN18vaV"
      },
      "outputs": [],
      "source": [
        "df=spark.read.csv(r'/content/user_login_history.csv',inferSchema=True,header=True)"
      ]
    },
    {
      "cell_type": "code",
      "execution_count": 67,
      "metadata": {
        "colab": {
          "base_uri": "https://localhost:8080/"
        },
        "id": "iJk44npp9hA1",
        "outputId": "b7d8900a-41c6-49ea-eedc-87f7cebe8c20"
      },
      "outputs": [
        {
          "output_type": "stream",
          "name": "stdout",
          "text": [
            "+---+------+----------+\n",
            "| id|userid|login_date|\n",
            "+---+------+----------+\n",
            "|  1|     1|01-01-2019|\n",
            "|  2|     2|02-01-2019|\n",
            "|  3|     3|03-01-2019|\n",
            "|  4|     4|04-01-2019|\n",
            "|  5|     5|05-01-2019|\n",
            "|  6|     6|06-01-2019|\n",
            "|  7|     7|07-01-2019|\n",
            "|  8|     8|08-01-2019|\n",
            "|  9|    68|08-01-2019|\n",
            "| 10|     9|09-01-2019|\n",
            "+---+------+----------+\n",
            "only showing top 10 rows\n",
            "\n"
          ]
        }
      ],
      "source": [
        "df.show(n=10)"
      ]
    },
    {
      "cell_type": "code",
      "execution_count": 68,
      "metadata": {
        "id": "MmME1JMT9mhl"
      },
      "outputs": [],
      "source": [
        "from datetime import datetime,timedelta,date\n"
      ]
    },
    {
      "cell_type": "code",
      "execution_count": 69,
      "metadata": {
        "id": "SnD7kXpQh6rQ"
      },
      "outputs": [],
      "source": [
        "day=date.today()"
      ]
    },
    {
      "cell_type": "code",
      "execution_count": 70,
      "metadata": {
        "colab": {
          "base_uri": "https://localhost:8080/"
        },
        "id": "KjlTiay4iH4X",
        "outputId": "ab5e54f9-af6d-45ee-b62c-b33aa4248826"
      },
      "outputs": [
        {
          "output_type": "stream",
          "name": "stdout",
          "text": [
            "2022-06-12\n",
            "2019-01-06 00:00:00\n"
          ]
        }
      ],
      "source": [
        "dt=datetime.strptime('06-01-2019','%d-%m-%Y')\n",
        "\n",
        "print(day)\n",
        "print(dt )"
      ]
    },
    {
      "cell_type": "code",
      "execution_count": 73,
      "metadata": {
        "id": "NL9OEv1sioP_"
      },
      "outputs": [],
      "source": [
        "def check_week(str1):\n",
        "  c_dt=datetime.strptime(str1,'%d-%m-%Y')\n",
        "  c_dt=c_dt.date()\n",
        " \n",
        "  day=date.today()\n",
        " \n",
        "  dt=day\n",
        "  start=dt-timedelta(days=dt.weekday())\n",
        "  end=start+timedelta(days=6)\n",
        "  \n",
        "  print(start)\n",
        "  print(c_dt)\n",
        "  print(end)\n",
        "\n",
        "  if start<=c_dt<=end:\n",
        "    return 'true'\n",
        "  else:\n",
        "    return 'false'\n"
      ]
    },
    {
      "cell_type": "code",
      "execution_count": 74,
      "metadata": {
        "colab": {
          "base_uri": "https://localhost:8080/",
          "height": 87
        },
        "id": "-zlh4y9kryvk",
        "outputId": "3e1c4dfc-7c7d-4b22-9891-79f5179d82a3"
      },
      "outputs": [
        {
          "output_type": "stream",
          "name": "stdout",
          "text": [
            "2022-06-06\n",
            "2019-01-08\n",
            "2022-06-12\n"
          ]
        },
        {
          "output_type": "execute_result",
          "data": {
            "text/plain": [
              "'false'"
            ],
            "application/vnd.google.colaboratory.intrinsic+json": {
              "type": "string"
            }
          },
          "metadata": {},
          "execution_count": 74
        }
      ],
      "source": [
        "check_week('08-01-2019')"
      ]
    },
    {
      "cell_type": "code",
      "execution_count": null,
      "metadata": {
        "id": "77kteueyn1aW"
      },
      "outputs": [],
      "source": [
        ""
      ]
    },
    {
      "cell_type": "code",
      "execution_count": 75,
      "metadata": {
        "colab": {
          "base_uri": "https://localhost:8080/"
        },
        "id": "sqyGpHsipLKd",
        "outputId": "f0ea15e9-9692-45c2-fd80-5fd93df36b26"
      },
      "outputs": [
        {
          "output_type": "stream",
          "name": "stdout",
          "text": [
            "+---+------+----------+-----+\n",
            "| id|userid|login_date|cweek|\n",
            "+---+------+----------+-----+\n",
            "|  1|     1|01-01-2019|false|\n",
            "|  2|     2|02-01-2019|false|\n",
            "|  3|     3|03-01-2019|false|\n",
            "|  4|     4|04-01-2019|false|\n",
            "|  5|     5|05-01-2019|false|\n",
            "|  6|     6|06-01-2019|false|\n",
            "|  7|     7|07-01-2019|false|\n",
            "|  8|     8|08-01-2019|false|\n",
            "|  9|    68|08-01-2019|false|\n",
            "| 10|     9|09-01-2019|false|\n",
            "| 11|    10|10-01-2019|false|\n",
            "| 12|     1|01-02-2019|false|\n",
            "| 13|     2|02-02-2019|false|\n",
            "| 14|     3|03-02-2019|false|\n",
            "| 15|     4|04-02-2019|false|\n",
            "| 16|     5|05-02-2019|false|\n",
            "| 17|     6|06-02-2019|false|\n",
            "| 18|     7|07-02-2019|false|\n",
            "| 19|     8|08-02-2019|false|\n",
            "| 20|     9|09-02-2019|false|\n",
            "+---+------+----------+-----+\n",
            "only showing top 20 rows\n",
            "\n"
          ]
        }
      ],
      "source": [
        "res=df.withColumn('cweek',udf_week(col('login_date'))) .show()"
      ]
    },
    {
      "cell_type": "code",
      "execution_count": 85,
      "metadata": {
        "id": "5HBta7KCrJyl"
      },
      "outputs": [],
      "source": [
        "def check_prev_week(str1):\n",
        "  c_dt=datetime.strptime(str1,'%d-%m-%Y')\n",
        "  c_dt=c_dt.date()\n",
        " \n",
        "  day=date.today()\n",
        " \n",
        "  dt=day\n",
        "  start=dt-timedelta(days=dt.weekday())\n",
        "  pstart=start-timedelta(days=7)\n",
        "  pend=pstart+timedelta(days=6)\n",
        "  \n",
        "  print(start)\n",
        "  print(pstart)\n",
        "  print(pend)\n",
        "\n",
        "  if pstart<=c_dt>=pend:\n",
        "    return 'true'\n",
        "  else:\n",
        "    return 'false'\n"
      ]
    },
    {
      "cell_type": "code",
      "source": [
        "check_prev_week('6-12-2022')"
      ],
      "metadata": {
        "colab": {
          "base_uri": "https://localhost:8080/",
          "height": 87
        },
        "id": "4yXqptI9Obs2",
        "outputId": "d0477aad-08ae-4740-f0b0-be8d011db674"
      },
      "execution_count": 86,
      "outputs": [
        {
          "output_type": "stream",
          "name": "stdout",
          "text": [
            "2022-06-06\n",
            "2022-05-30\n",
            "2022-06-05\n"
          ]
        },
        {
          "output_type": "execute_result",
          "data": {
            "text/plain": [
              "'true'"
            ],
            "application/vnd.google.colaboratory.intrinsic+json": {
              "type": "string"
            }
          },
          "metadata": {},
          "execution_count": 86
        }
      ]
    },
    {
      "cell_type": "code",
      "source": [
        "prev_udf=udf(lambda x:check_prev_week(x))"
      ],
      "metadata": {
        "id": "TUe8XCWOO3lZ"
      },
      "execution_count": 87,
      "outputs": []
    },
    {
      "cell_type": "code",
      "source": [
        "res=df.withColumn('pweek',prev_udf(col('login_date')))"
      ],
      "metadata": {
        "id": "jaEC6hxBPdxn"
      },
      "execution_count": 88,
      "outputs": []
    },
    {
      "cell_type": "code",
      "source": [
        "res.show(n=10)"
      ],
      "metadata": {
        "colab": {
          "base_uri": "https://localhost:8080/"
        },
        "id": "cVsY9kFkP_KS",
        "outputId": "86302a0c-097f-4edf-bbe3-03adaddb223b"
      },
      "execution_count": 90,
      "outputs": [
        {
          "output_type": "stream",
          "name": "stdout",
          "text": [
            "+---+------+----------+-----+\n",
            "| id|userid|login_date|pweek|\n",
            "+---+------+----------+-----+\n",
            "|  1|     1|01-01-2019|false|\n",
            "|  2|     2|02-01-2019|false|\n",
            "|  3|     3|03-01-2019|false|\n",
            "|  4|     4|04-01-2019|false|\n",
            "|  5|     5|05-01-2019|false|\n",
            "|  6|     6|06-01-2019|false|\n",
            "|  7|     7|07-01-2019|false|\n",
            "|  8|     8|08-01-2019|false|\n",
            "|  9|    68|08-01-2019|false|\n",
            "| 10|     9|09-01-2019|false|\n",
            "+---+------+----------+-----+\n",
            "only showing top 10 rows\n",
            "\n"
          ]
        }
      ]
    },
    {
      "cell_type": "code",
      "source": [
        "def cur_month(str1):\n",
        "  c_dt=datetime.strptime(str1,'%d-%m-%Y')\n",
        "  c_dt=c_dt.date()\n",
        " \n",
        "  day=date.today()\n",
        " \n",
        "  dt=day\n",
        "  \n",
        "  cm_start=dt-timedelta(days=11)\n",
        "  cm_end=cm_start+timedelta(days=29)\n",
        "  \n",
        "  print(dt)\n",
        "  print(cm_start)\n",
        "  print(cm_end)\n",
        "\n",
        "  if cm_start<=dt<=cm_end:\n",
        "    return 'true'\n",
        "  else:\n",
        "    return 'false'\n"
      ],
      "metadata": {
        "id": "69-YBLxgQBC4"
      },
      "execution_count": 92,
      "outputs": []
    },
    {
      "cell_type": "code",
      "source": [
        "cur_month('06-12-2020')"
      ],
      "metadata": {
        "colab": {
          "base_uri": "https://localhost:8080/",
          "height": 87
        },
        "id": "sa9_oKNySrWX",
        "outputId": "f00ee18f-0321-42c3-885f-46ec2c6fd05e"
      },
      "execution_count": 95,
      "outputs": [
        {
          "output_type": "stream",
          "name": "stdout",
          "text": [
            "2022-06-12\n",
            "2022-06-01\n",
            "2022-06-30\n"
          ]
        },
        {
          "output_type": "execute_result",
          "data": {
            "text/plain": [
              "'true'"
            ],
            "application/vnd.google.colaboratory.intrinsic+json": {
              "type": "string"
            }
          },
          "metadata": {},
          "execution_count": 95
        }
      ]
    },
    {
      "cell_type": "code",
      "source": [
        "def cur_month(str1):\n",
        "  c_dt=datetime.strptime(str1,'%d-%m-%Y')\n",
        "  c_dt=c_dt.date()\n",
        " \n",
        "  day=date.today()\n",
        " \n",
        "  dt=day\n",
        "  cm_start=dt-timedelta(days=11)\n",
        "  pm_start=cm_start-timedelta(days=31)\n",
        "  pm_end= pm_start+timedelta(days=29)\n",
        "  \n",
        "  print(dt)\n",
        "  print( pm_start)\n",
        "  print( pm_end)\n",
        "\n",
        "  if  pm_start<=cm_start<=pm_end:\n",
        "    return 'true'\n",
        "  else:\n",
        "    return 'false'\n"
      ],
      "metadata": {
        "id": "GRhxzk3wTx6U"
      },
      "execution_count": 100,
      "outputs": []
    },
    {
      "cell_type": "code",
      "source": [
        "cur_month('01-06-2022')"
      ],
      "metadata": {
        "colab": {
          "base_uri": "https://localhost:8080/",
          "height": 87
        },
        "id": "1iGq1L9bWnbG",
        "outputId": "a78be15b-7990-495b-e29b-ccdb340ee441"
      },
      "execution_count": 102,
      "outputs": [
        {
          "output_type": "stream",
          "name": "stdout",
          "text": [
            "2022-06-12\n",
            "2022-05-01\n",
            "2022-05-30\n"
          ]
        },
        {
          "output_type": "execute_result",
          "data": {
            "text/plain": [
              "'false'"
            ],
            "application/vnd.google.colaboratory.intrinsic+json": {
              "type": "string"
            }
          },
          "metadata": {},
          "execution_count": 102
        }
      ]
    },
    {
      "cell_type": "code",
      "source": [
        "pv_month_udf=udf(lambda x:cur_month(x))"
      ],
      "metadata": {
        "id": "tBlQgIJ_XbMU"
      },
      "execution_count": 103,
      "outputs": []
    },
    {
      "cell_type": "code",
      "source": [
        "res4=df.withColumn('pmonth',pv_month_udf(col('login_date')))"
      ],
      "metadata": {
        "id": "_4ABpd5xXxpx"
      },
      "execution_count": 104,
      "outputs": []
    },
    {
      "cell_type": "code",
      "source": [
        "res4.show(n=10)"
      ],
      "metadata": {
        "colab": {
          "base_uri": "https://localhost:8080/"
        },
        "id": "vo-Tx5HtYFmv",
        "outputId": "55a7eafe-b092-495e-9f5a-f7a834fe6bb3"
      },
      "execution_count": 106,
      "outputs": [
        {
          "output_type": "stream",
          "name": "stdout",
          "text": [
            "+---+------+----------+------+\n",
            "| id|userid|login_date|pmonth|\n",
            "+---+------+----------+------+\n",
            "|  1|     1|01-01-2019| false|\n",
            "|  2|     2|02-01-2019| false|\n",
            "|  3|     3|03-01-2019| false|\n",
            "|  4|     4|04-01-2019| false|\n",
            "|  5|     5|05-01-2019| false|\n",
            "|  6|     6|06-01-2019| false|\n",
            "|  7|     7|07-01-2019| false|\n",
            "|  8|     8|08-01-2019| false|\n",
            "|  9|    68|08-01-2019| false|\n",
            "| 10|     9|09-01-2019| false|\n",
            "+---+------+----------+------+\n",
            "only showing top 10 rows\n",
            "\n"
          ]
        }
      ]
    },
    {
      "cell_type": "code",
      "source": [
        "def cur_year(str1):\n",
        "  c_dt=datetime.strptime(str1,'%d-%m-%Y')\n",
        "  c_dt=c_dt.date()\n",
        " \n",
        "  day=date.today()\n",
        " \n",
        "  dt=day\n",
        "  cm_start=dt-timedelta(days=11)\n",
        "  cur_year_start=cm_start-timedelta(days=151)\n",
        "  cur_year_end= cur_year_start+timedelta(days=364)\n",
        "  \n",
        "  print(cm_start)\n",
        "  print(cur_year_start)\n",
        "  print( cur_year_end)\n",
        "\n",
        "  if  cur_year_start<=cm_start<=cur_year_end:\n",
        "    return 'true'\n",
        "  else:\n",
        "    return 'false'\n"
      ],
      "metadata": {
        "id": "1er2cNppYHe4"
      },
      "execution_count": 109,
      "outputs": []
    },
    {
      "cell_type": "code",
      "source": [
        "cur_year('01-06-2022')"
      ],
      "metadata": {
        "colab": {
          "base_uri": "https://localhost:8080/",
          "height": 87
        },
        "id": "ipoC461_lylp",
        "outputId": "5e9ba0ba-6680-4432-a848-7583be26145e"
      },
      "execution_count": 110,
      "outputs": [
        {
          "output_type": "stream",
          "name": "stdout",
          "text": [
            "2022-06-01\n",
            "2022-01-01\n",
            "2022-12-31\n"
          ]
        },
        {
          "output_type": "execute_result",
          "data": {
            "text/plain": [
              "'true'"
            ],
            "application/vnd.google.colaboratory.intrinsic+json": {
              "type": "string"
            }
          },
          "metadata": {},
          "execution_count": 110
        }
      ]
    },
    {
      "cell_type": "code",
      "source": [
        "cur_year_udf=udf(lambda x:cur_year(x))"
      ],
      "metadata": {
        "id": "89SBIIhLl750"
      },
      "execution_count": 111,
      "outputs": []
    },
    {
      "cell_type": "code",
      "source": [
        "final_res=df.withColumn('current_year',cur_year_udf(col('login_date')))"
      ],
      "metadata": {
        "id": "Q5F6O8S8mkUy"
      },
      "execution_count": 112,
      "outputs": []
    },
    {
      "cell_type": "code",
      "source": [
        "final_res.show(n=10)"
      ],
      "metadata": {
        "colab": {
          "base_uri": "https://localhost:8080/"
        },
        "id": "pXwhoi8vm4Lg",
        "outputId": "e55a0213-014c-4b6b-a6ae-e18dacc5a7b3"
      },
      "execution_count": 114,
      "outputs": [
        {
          "output_type": "stream",
          "name": "stdout",
          "text": [
            "+---+------+----------+------------+\n",
            "| id|userid|login_date|current_year|\n",
            "+---+------+----------+------------+\n",
            "|  1|     1|01-01-2019|        true|\n",
            "|  2|     2|02-01-2019|        true|\n",
            "|  3|     3|03-01-2019|        true|\n",
            "|  4|     4|04-01-2019|        true|\n",
            "|  5|     5|05-01-2019|        true|\n",
            "|  6|     6|06-01-2019|        true|\n",
            "|  7|     7|07-01-2019|        true|\n",
            "|  8|     8|08-01-2019|        true|\n",
            "|  9|    68|08-01-2019|        true|\n",
            "| 10|     9|09-01-2019|        true|\n",
            "+---+------+----------+------------+\n",
            "only showing top 10 rows\n",
            "\n"
          ]
        }
      ]
    },
    {
      "cell_type": "code",
      "source": [
        "def prev_year(str1):\n",
        "  c_dt=datetime.strptime(str1,'%d-%m-%Y')\n",
        "  c_dt=c_dt.date()\n",
        " \n",
        "  day=date.today()\n",
        " \n",
        "  dt=day\n",
        "  cm_start=dt-timedelta(days=11)\n",
        "  cur_year_start=cm_start-timedelta(days=151)\n",
        "  prev_year_start= cur_year_start-timedelta(days=365)\n",
        "  prev_year_end= prev_year_start+timedelta(days=364)\n",
        "\n",
        "  print(cur_year_start)\n",
        "  print( prev_year_start)\n",
        "  print(prev_year_end)\n",
        "\n",
        "  if  prev_year_start<=cur_year_start>=prev_year_end:\n",
        "    return 'true'\n",
        "  else:\n",
        "    return 'false'\n"
      ],
      "metadata": {
        "id": "LO00odQrnI-q"
      },
      "execution_count": 118,
      "outputs": []
    },
    {
      "cell_type": "code",
      "source": [
        "prev_year('01-01-2022')"
      ],
      "metadata": {
        "colab": {
          "base_uri": "https://localhost:8080/",
          "height": 87
        },
        "id": "r8VTZv9-pTPi",
        "outputId": "81b5ae47-c7ff-4d42-d7a4-6162f38ca451"
      },
      "execution_count": 120,
      "outputs": [
        {
          "output_type": "stream",
          "name": "stdout",
          "text": [
            "2022-01-01\n",
            "2021-01-01\n",
            "2021-12-31\n"
          ]
        },
        {
          "output_type": "execute_result",
          "data": {
            "text/plain": [
              "'true'"
            ],
            "application/vnd.google.colaboratory.intrinsic+json": {
              "type": "string"
            }
          },
          "metadata": {},
          "execution_count": 120
        }
      ]
    },
    {
      "cell_type": "code",
      "source": [
        "prev_year_udf=udf(lambda x:prev_year(x))"
      ],
      "metadata": {
        "id": "-Nq0oaJVpxam"
      },
      "execution_count": 121,
      "outputs": []
    },
    {
      "cell_type": "code",
      "source": [
        "final_res1=df.withColumn('p_year',prev_year_udf(col('login_date')))"
      ],
      "metadata": {
        "id": "yQpGt786qGsr"
      },
      "execution_count": 122,
      "outputs": []
    },
    {
      "cell_type": "code",
      "source": [
        "final_res1.show(n=10)"
      ],
      "metadata": {
        "colab": {
          "base_uri": "https://localhost:8080/"
        },
        "id": "EkdEC-gPqZhd",
        "outputId": "220f3b8a-39a5-401d-e2c3-412da57f475a"
      },
      "execution_count": 123,
      "outputs": [
        {
          "output_type": "stream",
          "name": "stdout",
          "text": [
            "+---+------+----------+------+\n",
            "| id|userid|login_date|p_year|\n",
            "+---+------+----------+------+\n",
            "|  1|     1|01-01-2019|  true|\n",
            "|  2|     2|02-01-2019|  true|\n",
            "|  3|     3|03-01-2019|  true|\n",
            "|  4|     4|04-01-2019|  true|\n",
            "|  5|     5|05-01-2019|  true|\n",
            "|  6|     6|06-01-2019|  true|\n",
            "|  7|     7|07-01-2019|  true|\n",
            "|  8|     8|08-01-2019|  true|\n",
            "|  9|    68|08-01-2019|  true|\n",
            "| 10|     9|09-01-2019|  true|\n",
            "+---+------+----------+------+\n",
            "only showing top 10 rows\n",
            "\n"
          ]
        }
      ]
    },
    {
      "cell_type": "code",
      "source": [
        ""
      ],
      "metadata": {
        "id": "JdenpwPrqdWU"
      },
      "execution_count": null,
      "outputs": []
    }
  ],
  "metadata": {
    "colab": {
      "collapsed_sections": [],
      "name": "task3.ipynb",
      "provenance": [],
      "authorship_tag": "ABX9TyN9yyrsqaSWrNQEXau2hOL0",
      "include_colab_link": true
    },
    "kernelspec": {
      "display_name": "Python 3",
      "name": "python3"
    },
    "language_info": {
      "name": "python"
    }
  },
  "nbformat": 4,
  "nbformat_minor": 0
}